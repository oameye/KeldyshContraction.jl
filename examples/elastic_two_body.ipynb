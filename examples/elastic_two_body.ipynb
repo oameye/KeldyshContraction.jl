{
 "cells": [
  {
   "cell_type": "markdown",
   "source": [
    "## Elastic Two Body Scattering"
   ],
   "metadata": {}
  },
  {
   "outputs": [],
   "cell_type": "code",
   "source": [
    "using KeldyshContraction"
   ],
   "metadata": {},
   "execution_count": 1
  },
  {
   "cell_type": "markdown",
   "source": [
    "## System"
   ],
   "metadata": {}
  },
  {
   "cell_type": "markdown",
   "source": [
    "The interaction action of elastic two body scattering, is defined as\n",
    "$$\n",
    "S_\\mathrm{int} = -\\frac{g}{2} \\int d^d x \\, [(\\bar{\\phi}^+\\phi^+)^2 - (\\bar{\\phi}^-\\phi^-)^2 ]\n",
    "$$\n",
    "Above interaction can typically represent s-wave scattering of bosons."
   ],
   "metadata": {}
  },
  {
   "cell_type": "markdown",
   "source": [
    "In the RAK basis, this gives\n",
    "$$\n",
    "S_\\mathrm{int} = -\\frac{g}{2} \\int d^d x \\, [(\\bar{\\phi}^c\\bar{\\phi}^q\\phi^c\\phi^c)\n",
    "+(\\bar{\\phi}^c\\bar{\\phi}^q\\phi^q\\phi^q) + c.c.]\n",
    "$$"
   ],
   "metadata": {}
  },
  {
   "cell_type": "markdown",
   "source": [
    "Let us represent this quantum and classical field inside the `KeldyshContraction` package\n",
    "and define the interaction Lagrangian:"
   ],
   "metadata": {}
  },
  {
   "outputs": [
    {
     "output_type": "execute_result",
     "data": {
      "text/plain": "Interaction Lagrangian with fields c and q:\n(0.5*(c*c*̄c*̄q)+0.5*(q*q*̄c*̄q)+0.5*(c*q*̄c*̄c)+0.5*(c*q*̄q*̄q))",
      "text/latex": "$0.5 c c \\bar{c} \\bar{q} + 0.5 q q \\bar{c} \\bar{q} + 0.5 c q \\bar{c} \\bar{c} + 0.5 c q \\bar{q} \\bar{q}$"
     },
     "metadata": {},
     "execution_count": 2
    }
   ],
   "cell_type": "code",
   "source": [
    "@qfields c::Destroy(Classical) q::Destroy(Quantum)\n",
    "elasctic2boson = 0.5 * (c^2 + q^2) * c' * q' + 0.5 * c * q * ((c')^2 + (q')^2)\n",
    "L_int = InteractionLagrangian(elasctic2boson)"
   ],
   "metadata": {},
   "execution_count": 2
  },
  {
   "cell_type": "markdown",
   "source": [
    "A good check if the interaction Lagrangian is a valid physical process, is to check if the\n",
    "normalization identity $Z=1$ holds. We can do this perturbatively in $g$ by expanding\n",
    "$exp(i S_\\mathrm{int})$  and showing the average of the linear part of the system is zero\n",
    "$$\n",
    "\\langle S_\\mathrm{int}\\rangle =  \\langle S_\\mathrm{int}^2\\rangle  =\\ldots = 0\n",
    "$$\n",
    "In computing the average, one performs Wick contractions to describe the average in terms\n",
    "of the two-point correlators of the linear part of the system."
   ],
   "metadata": {}
  },
  {
   "cell_type": "markdown",
   "source": [
    "In the package we can do this as follows:"
   ],
   "metadata": {}
  },
  {
   "outputs": [
    {
     "output_type": "execute_result",
     "data": {
      "text/plain": "-Gᴬ(y₁,y₁)*Gᴷ(y₁,y₁) - Gᴿ(y₁,y₁)*Gᴷ(y₁,y₁)"
     },
     "metadata": {},
     "execution_count": 3
    }
   ],
   "cell_type": "code",
   "source": [
    "wick_contraction(elasctic2boson)"
   ],
   "metadata": {},
   "execution_count": 3
  },
  {
   "cell_type": "markdown",
   "source": [
    "However, to show that these diagrams cancel out, we need to apply to condition $G^R = - G^A$.\n",
    "Inside the package we do this by"
   ],
   "metadata": {}
  },
  {
   "outputs": [
    {
     "output_type": "execute_result",
     "data": {
      "text/plain": "0"
     },
     "metadata": {},
     "execution_count": 4
    }
   ],
   "cell_type": "code",
   "source": [
    "KeldyshContraction.advanced_to_retarded(wick_contraction(elasctic2boson))"
   ],
   "metadata": {},
   "execution_count": 4
  },
  {
   "cell_type": "markdown",
   "source": [
    "Similarly, we can compute the next orders."
   ],
   "metadata": {}
  },
  {
   "cell_type": "markdown",
   "source": [
    "## First order Green's function"
   ],
   "metadata": {}
  },
  {
   "cell_type": "markdown",
   "source": [
    "To compute the two point Green's functions of the interacting system, we can apply\n",
    " self-consistent perturbation theory. By again expanding in $g$ we can write\n",
    "$$\n",
    "\\begin{aligned}\n",
    "& i G^{\\mu \\nu}\\left(x_1, x_2\\right)=\\int \\mathcal{D}\\left[\\phi_c, \\bar{\\phi}_c, \\phi_q, \\bar{\\phi}_q\\right] \\phi_\\mu\\left(x_1\\right) \\bar{\\phi}_\\nu\\left(x_2\\right) \\sum_{k=0}^{\\infty} \\frac{i^k S_{\\mathrm{int}}^k}{k!} e^{i S_0}= \\\\\n",
    "& \\quad=i G_0^{\\mu \\nu}\\left(x_1, x_2\\right)+i \\int d^d y d t_y\\left\\langle\\phi_\\mu\\left(x_1\\right) \\bar{\\phi}_\\nu\\left(x_2\\right) \\mathcal{L}_{\\mathrm{int}}(y)\\right\\rangle_0+\\sum_{k=2}^{\\infty}\\left\\langle\\phi_\\mu\\left(x_1\\right) \\bar{\\phi}_\\nu\\left(x_2\\right) \\frac{i^k S_{\\mathrm{int}}^k}{k!}\\right\\rangle_0 .\n",
    "\\end{aligned}\n",
    "$$"
   ],
   "metadata": {}
  },
  {
   "cell_type": "markdown",
   "source": [
    "So we can compute the first order Green's function correction G_{(1)} by computing\n",
    "the Wick contraction of the interaction Lagrangian"
   ],
   "metadata": {}
  },
  {
   "outputs": [
    {
     "output_type": "execute_result",
     "data": {
      "text/plain": "Dressed Propagator:\nkeldysh:  (0.0 - 1.0im)*Gᴬ(y₁,x₂)*Gᴷ(y₁,y₁)*Gᴷ(x₁,y₁) + (0.0 - 1.0im)*Gᴷ(y₁,x₂)*Gᴿ(x₁,y₁)*Gᴷ(y₁,y₁)\nretarded: (0.0 - 1.0im)*Gᴿ(y₁,x₂)*Gᴿ(x₁,y₁)*Gᴷ(y₁,y₁)\nadvanced: (0.0 - 1.0im)*Gᴬ(y₁,x₂)*Gᴷ(y₁,y₁)*Gᴬ(x₁,y₁)"
     },
     "metadata": {},
     "execution_count": 5
    }
   ],
   "cell_type": "code",
   "source": [
    "GF = wick_contraction(L_int)"
   ],
   "metadata": {},
   "execution_count": 5
  },
  {
   "cell_type": "markdown",
   "source": [
    "Here, the simplification of the advanced to retarded propagator is done internally."
   ],
   "metadata": {}
  },
  {
   "cell_type": "markdown",
   "source": [
    "## Self-Energy"
   ],
   "metadata": {}
  },
  {
   "cell_type": "markdown",
   "source": [
    "Often we are interested in the self-energy of the system, which is defined as\n",
    "the set of irreduciable diagrams. Inside the package we can compute these to an order $g$ by"
   ],
   "metadata": {}
  },
  {
   "outputs": [
    {
     "output_type": "execute_result",
     "data": {
      "text/plain": "Self Energy:\nkeldysh:  0\nretarded: (0.0 - 1.0im)*Gᴷ(y₁,y₁)\nadvanced: (0.0 - 1.0im)*Gᴷ(y₁,y₁)"
     },
     "metadata": {},
     "execution_count": 6
    }
   ],
   "cell_type": "code",
   "source": [
    "Σ = SelfEnergy(GF)"
   ],
   "metadata": {},
   "execution_count": 6
  },
  {
   "cell_type": "markdown",
   "source": [
    "## Transport"
   ],
   "metadata": {}
  },
  {
   "cell_type": "markdown",
   "source": [
    "The self-energy can be used to compute derive a kinetic equation for the system.\n",
    "In doing this one compute the so-called collision integral, which is given by\n",
    "$$\n",
    "I _\\mathrm{coll}= i Σ^K(x, p) + 2 F (x, p) \\mathrm{Im}[Σ^R(x, p)].\n",
    "$$\n",
    "Here, $F$ is the bosonic distribution function of the system.\n",
    "However, from aboves calculation we find that $i Σ^K(x, p) = 0$ and:\n",
    "$$\n",
    " \\mathrm{Im}[G^K(x, p)]= \\int \\frac{d^d q}{(2\\pi)^d} \\mathrm{Im}G^K = 0.\n",
    "$$\n",
    "where $q = (\\vec{q}, \\epsilon)$ with $\\epsilon$ the energy of the system.\n",
    "Hence, the first order correction in $g$ does not contribute to the collision integral."
   ],
   "metadata": {}
  },
  {
   "cell_type": "markdown",
   "source": [
    "---\n",
    "\n",
    "*This notebook was generated using [Literate.jl](https://github.com/fredrikekre/Literate.jl).*"
   ],
   "metadata": {}
  }
 ],
 "nbformat_minor": 3,
 "metadata": {
  "language_info": {
   "file_extension": ".jl",
   "mimetype": "application/julia",
   "name": "julia",
   "version": "1.10.9"
  },
  "kernelspec": {
   "name": "julia-1.10",
   "display_name": "Julia 1.10.9",
   "language": "julia"
  }
 },
 "nbformat": 4
}
