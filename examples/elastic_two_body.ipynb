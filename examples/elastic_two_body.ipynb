{
 "cells": [
  {
   "cell_type": "code",
   "execution_count": 12,
   "id": "56901c4a",
   "metadata": {},
   "outputs": [],
   "source": [
    "using DrWatson\n",
    "@quickactivate \"LossyTransport\""
   ]
  },
  {
   "cell_type": "code",
   "execution_count": 13,
   "id": "34ad9914",
   "metadata": {},
   "outputs": [],
   "source": [
    "using KeldyshContraction\n",
    "using KeldyshContraction: Classical, Quantum, Plus, Minus"
   ]
  },
  {
   "cell_type": "code",
   "execution_count": 14,
   "id": "43c1586c",
   "metadata": {},
   "outputs": [
    {
     "data": {
      "text/latex": [
       "$0.5 \\phi^{-} \\phi^{-} \\bar{\\phi} \\bar{\\psi} + 0.5 \\psi^{-} \\psi^{-} \\bar{\\phi} \\bar{\\psi} -0.5 \\phi^+ \\psi^+ \\bar{\\phi} \\bar{\\phi} -0.5 \\phi^+ \\psi^+ \\bar{\\psi} \\bar{\\psi}$"
      ],
      "text/plain": [
       "Interaction Lagrangian with fields ϕ and ψ:\n",
       "(0.5*(ϕ⁻*ϕ⁻*̄ϕ*̄ψ)+0.5*(ψ⁻*ψ⁻*̄ϕ*̄ψ)+-0.5*(ϕ⁺*ψ⁺*̄ϕ*̄ϕ)+-0.5*(ϕ⁺*ψ⁺*̄ψ*̄ψ))"
      ]
     },
     "execution_count": 14,
     "metadata": {},
     "output_type": "execute_result"
    }
   ],
   "source": [
    "@qfields ϕ::Destroy(Classical) ψ::Destroy(Quantum)\n",
    "\n",
    "eleactic2boson =  0.5 * ϕ' * ψ' * (ϕ(Minus)^2 + ψ(Minus)^2) - 0.5 * ϕ(Plus) * ψ(Plus) * (ϕ'^2 + ψ'^2) \n",
    "L_int = InteractionLagrangian(eleactic2boson)"
   ]
  },
  {
   "cell_type": "code",
   "execution_count": 15,
   "id": "91fbd633",
   "metadata": {},
   "outputs": [
    {
     "data": {
      "text/plain": [
       "Dressed Propagator:\n",
       "keldysh:  (0.0 + 1.0im)*Gᴬ(y₁,x₂)*Gᴿ(y₁,y₁)*Gᴿ(x₁,y₁) + (0.0 + 1.0im)*Gᴬ(y₁,x₂)*Gᴷ(y₁,y₁)*Gᴷ(x₁,y₁) + (0.0 - 1.0im)*Gᴬ(y₁,x₂)*Gᴬ(y₁,y₁)*Gᴿ(x₁,y₁) + (0.0 - 1.0im)*Gᴷ(y₁,y₁)*Gᴿ(x₁,y₁)*Gᴷ(y₁,x₂)\n",
       "retarded: (0.0 - 1.0im)*Gᴷ(y₁,y₁)*Gᴿ(x₁,y₁)*Gᴿ(y₁,x₂)\n",
       "advanced: (-0.0 + 1.0im)*Gᴬ(x₁,y₁)*Gᴬ(y₁,x₂)*Gᴷ(y₁,y₁)"
      ]
     },
     "execution_count": 15,
     "metadata": {},
     "output_type": "execute_result"
    }
   ],
   "source": [
    "GF = wick_contraction(L_int)"
   ]
  },
  {
   "cell_type": "code",
   "execution_count": 16,
   "id": "297c4e9b",
   "metadata": {},
   "outputs": [
    {
     "data": {
      "text/plain": [
       "(0.0 + 1.0im)*Gᴬ(y₁,x₂)*Gᴿ(y₁,y₁)*Gᴿ(x₁,y₁) + (0.0 + 1.0im)*Gᴬ(y₁,x₂)*Gᴷ(y₁,y₁)*Gᴷ(x₁,y₁) + (0.0 - 1.0im)*Gᴬ(y₁,x₂)*Gᴬ(y₁,y₁)*Gᴿ(x₁,y₁) + (0.0 - 1.0im)*Gᴷ(y₁,y₁)*Gᴿ(x₁,y₁)*Gᴷ(y₁,x₂)"
      ]
     },
     "execution_count": 16,
     "metadata": {},
     "output_type": "execute_result"
    }
   ],
   "source": [
    "GF.keldysh"
   ]
  },
  {
   "cell_type": "code",
   "execution_count": 17,
   "id": "4242b387",
   "metadata": {},
   "outputs": [
    {
     "data": {
      "text/plain": [
       "Self Energy:\n",
       "keldysh:  (0.0 + 1.0im)*Gᴿ(y₁,y₁) + (0.0 - 1.0im)*Gᴬ(y₁,y₁)\n",
       "retarded: (0.0 - 1.0im)*Gᴷ(y₁,y₁)\n",
       "advanced: (0.0 + 1.0im)*Gᴷ(y₁,y₁)"
      ]
     },
     "execution_count": 17,
     "metadata": {},
     "output_type": "execute_result"
    }
   ],
   "source": [
    "Σ = SelfEnergy(GF)"
   ]
  },
  {
   "cell_type": "code",
   "execution_count": 18,
   "id": "71cfc80c",
   "metadata": {},
   "outputs": [
    {
     "data": {
      "text/plain": [
       "(0.0 + 1.0im)*Gᴷ(y₁,y₁)"
      ]
     },
     "execution_count": 18,
     "metadata": {},
     "output_type": "execute_result"
    }
   ],
   "source": [
    "Σ.advanced"
   ]
  },
  {
   "cell_type": "code",
   "execution_count": 19,
   "id": "03ed36ed",
   "metadata": {},
   "outputs": [
    {
     "data": {
      "text/latex": [
       "$-0.5 \\phi \\phi \\bar{\\phi} \\bar{\\psi} -0.5 \\psi \\psi \\bar{\\phi} \\bar{\\psi} -0.5 \\phi \\psi \\bar{\\phi} \\bar{\\phi} -0.5 \\phi \\psi \\bar{\\psi} \\bar{\\psi}$"
      ],
      "text/plain": [
       "Interaction Lagrangian with fields ϕ and ψ:\n",
       "(-0.5*(ϕ*ϕ*̄ϕ*̄ψ)+-0.5*(ψ*ψ*̄ϕ*̄ψ)+-0.5*(ϕ*ψ*̄ϕ*̄ϕ)+-0.5*(ϕ*ψ*̄ψ*̄ψ))"
      ]
     },
     "execution_count": 19,
     "metadata": {},
     "output_type": "execute_result"
    }
   ],
   "source": [
    "@qfields ϕ::Destroy(Classical) ψ::Destroy(Quantum)\n",
    "\n",
    "eleactic2boson =  - 0.5 * ϕ' * ψ' * (ϕ^2 + ψ^2) - 0.5 * ϕ * ψ * (ϕ'^2 + ψ'^2) \n",
    "L_int = InteractionLagrangian(eleactic2boson)"
   ]
  },
  {
   "cell_type": "code",
   "execution_count": 20,
   "id": "8d32a3dc",
   "metadata": {},
   "outputs": [
    {
     "data": {
      "text/plain": [
       "Dressed Propagator:\n",
       "keldysh:  (0.0 + 1.0im)*Gᴬ(y₁,x₂)*Gᴿ(y₁,y₁)*Gᴿ(x₁,y₁) + (0.0 + 1.0im)*Gᴬ(y₁,x₂)*Gᴷ(y₁,y₁)*Gᴷ(x₁,y₁) + (0.0 + 1.0im)*Gᴬ(y₁,x₂)*Gᴬ(y₁,y₁)*Gᴿ(x₁,y₁) + (0.0 + 1.0im)*Gᴿ(y₁,y₁)*Gᴷ(x₁,y₁)*Gᴷ(y₁,x₂) + (0.0 + 1.0im)*Gᴷ(y₁,y₁)*Gᴿ(x₁,y₁)*Gᴷ(y₁,x₂) + (0.0 + 1.0im)*Gᴬ(y₁,y₁)*Gᴷ(x₁,y₁)*Gᴷ(y₁,x₂)\n",
       "retarded: (0.0 + 1.0im)*Gᴿ(y₁,y₁)*Gᴿ(y₁,x₂)*Gᴷ(x₁,y₁) + (0.0 + 1.0im)*Gᴷ(y₁,y₁)*Gᴿ(x₁,y₁)*Gᴿ(y₁,x₂) + (0.0 + 1.0im)*Gᴬ(y₁,y₁)*Gᴿ(y₁,x₂)*Gᴷ(x₁,y₁)\n",
       "advanced: (0.0 + 1.0im)*Gᴬ(x₁,y₁)*Gᴬ(y₁,x₂)*Gᴷ(y₁,y₁) + (0.0 + 1.0im)*Gᴬ(x₁,y₁)*Gᴿ(y₁,y₁)*Gᴷ(y₁,x₂) + (0.0 + 1.0im)*Gᴬ(x₁,y₁)*Gᴬ(y₁,y₁)*Gᴷ(y₁,x₂)"
      ]
     },
     "execution_count": 20,
     "metadata": {},
     "output_type": "execute_result"
    }
   ],
   "source": [
    "GF = wick_contraction(L_int)"
   ]
  },
  {
   "cell_type": "code",
   "execution_count": 23,
   "id": "d2488a40",
   "metadata": {},
   "outputs": [
    {
     "data": {
      "text/plain": [
       "(0.0 + 1.0im)*Gᴬ(y₁,x₂)*Gᴿ(y₁,y₁)*Gᴿ(x₁,y₁) + (0.0 + 1.0im)*Gᴬ(y₁,x₂)*Gᴷ(y₁,y₁)*Gᴷ(x₁,y₁) + (0.0 + 1.0im)*Gᴬ(y₁,x₂)*Gᴬ(y₁,y₁)*Gᴿ(x₁,y₁) + (0.0 + 1.0im)*Gᴿ(y₁,y₁)*Gᴷ(x₁,y₁)*Gᴷ(y₁,x₂) + (0.0 + 1.0im)*Gᴷ(y₁,y₁)*Gᴿ(x₁,y₁)*Gᴷ(y₁,x₂) + (0.0 + 1.0im)*Gᴬ(y₁,y₁)*Gᴷ(x₁,y₁)*Gᴷ(y₁,x₂)"
      ]
     },
     "execution_count": 23,
     "metadata": {},
     "output_type": "execute_result"
    }
   ],
   "source": [
    "GF.keldysh"
   ]
  },
  {
   "cell_type": "code",
   "execution_count": 28,
   "id": "6e1f62f7",
   "metadata": {},
   "outputs": [
    {
     "data": {
      "text/plain": [
       "6-element SymbolicUtils.SmallVec{Any, Vector{Any}}:\n",
       " (0.0 + 1.0im)*Gᴿ(y₁,y₁)*Gᴷ(x₁,y₁)*Gᴷ(y₁,x₂)\n",
       " (0.0 + 1.0im)*Gᴬ(y₁,x₂)*Gᴬ(y₁,y₁)*Gᴿ(x₁,y₁)\n",
       " (0.0 + 1.0im)*Gᴬ(y₁,y₁)*Gᴷ(x₁,y₁)*Gᴷ(y₁,x₂)\n",
       " (0.0 + 1.0im)*Gᴷ(y₁,y₁)*Gᴿ(x₁,y₁)*Gᴷ(y₁,x₂)\n",
       " (0.0 + 1.0im)*Gᴬ(y₁,x₂)*Gᴷ(y₁,y₁)*Gᴷ(x₁,y₁)\n",
       " (0.0 + 1.0im)*Gᴬ(y₁,x₂)*Gᴿ(y₁,y₁)*Gᴿ(x₁,y₁)"
      ]
     },
     "execution_count": 28,
     "metadata": {},
     "output_type": "execute_result"
    }
   ],
   "source": [
    "using KeldyshContraction, SymbolicUtils\n",
    "using KeldyshContraction: construct_self_energy\n",
    "arguments(GF.keldysh)"
   ]
  },
  {
   "cell_type": "code",
   "execution_count": null,
   "id": "c8f767d0",
   "metadata": {},
   "outputs": [
    {
     "ename": "LoadError",
     "evalue": "MethodError: no method matching arguments(::ComplexF64)\n\n\u001b[0mClosest candidates are:\n\u001b[0m  arguments(\u001b[91m::SymbolicUtils.Code.Let\u001b[39m)\n\u001b[0m\u001b[90m   @\u001b[39m \u001b[36mSymbolicUtils\u001b[39m \u001b[90m~/.julia/packages/SymbolicUtils/0GKgW/src/\u001b[39m\u001b[90m\u001b[4mutils.jl:228\u001b[24m\u001b[39m\n\u001b[0m  arguments(\u001b[91m::SymbolicUtils.Code.AtIndex\u001b[39m)\n\u001b[0m\u001b[90m   @\u001b[39m \u001b[36mSymbolicUtils\u001b[39m \u001b[90m~/.julia/packages/SymbolicUtils/0GKgW/src/\u001b[39m\u001b[90m\u001b[4mutils.jl:228\u001b[24m\u001b[39m\n\u001b[0m  arguments(\u001b[91m::SymbolicUtils.Code.Assignment\u001b[39m)\n\u001b[0m\u001b[90m   @\u001b[39m \u001b[36mSymbolicUtils\u001b[39m \u001b[90m~/.julia/packages/SymbolicUtils/0GKgW/src/\u001b[39m\u001b[90m\u001b[4mutils.jl:228\u001b[24m\u001b[39m\n\u001b[0m  ...\n",
     "output_type": "error",
     "traceback": [
      "MethodError: no method matching arguments(::ComplexF64)\n\n\u001b[0mClosest candidates are:\n\u001b[0m  arguments(\u001b[91m::SymbolicUtils.Code.Let\u001b[39m)\n\u001b[0m\u001b[90m   @\u001b[39m \u001b[36mSymbolicUtils\u001b[39m \u001b[90m~/.julia/packages/SymbolicUtils/0GKgW/src/\u001b[39m\u001b[90m\u001b[4mutils.jl:228\u001b[24m\u001b[39m\n\u001b[0m  arguments(\u001b[91m::SymbolicUtils.Code.AtIndex\u001b[39m)\n\u001b[0m\u001b[90m   @\u001b[39m \u001b[36mSymbolicUtils\u001b[39m \u001b[90m~/.julia/packages/SymbolicUtils/0GKgW/src/\u001b[39m\u001b[90m\u001b[4mutils.jl:228\u001b[24m\u001b[39m\n\u001b[0m  arguments(\u001b[91m::SymbolicUtils.Code.Assignment\u001b[39m)\n\u001b[0m\u001b[90m   @\u001b[39m \u001b[36mSymbolicUtils\u001b[39m \u001b[90m~/.julia/packages/SymbolicUtils/0GKgW/src/\u001b[39m\u001b[90m\u001b[4mutils.jl:228\u001b[24m\u001b[39m\n\u001b[0m  ...\n",
      "",
      "Stacktrace:",
      " [1] construct_self_energy!(self_energy::OrderedCollections.LittleDict{KeldyshContraction.PropagatorType, Union{Number, SymbolicUtils.Symbolic{<:Number}}, Vector{KeldyshContraction.PropagatorType}, Vector{Union{Number, SymbolicUtils.Symbolic{<:Number}}}}, expr::SymbolicUtils.BasicSymbolic{Number})",
      "   @ KeldyshContraction ~/Documents/KeldyshContraction.jl/src/self_energy.jl:38",
      " [2] construct_self_energy(expr::SymbolicUtils.BasicSymbolic{Number})",
      "   @ KeldyshContraction ~/Documents/KeldyshContraction.jl/src/self_energy.jl:29",
      " [3] top-level scope",
      "   @ In[29]:1"
     ]
    }
   ],
   "source": [
    "construct_self_energy(arguments(GF.keldysh)[1])"
   ]
  },
  {
   "cell_type": "code",
   "execution_count": null,
   "id": "f2686737",
   "metadata": {},
   "outputs": [
    {
     "data": {
      "text/plain": [
       "(0.0 + 1.0im)*Gᴿ(y₁,y₁)*Gᴷ(x₁,y₁)*Gᴷ(y₁,x₂)"
      ]
     },
     "execution_count": 27,
     "metadata": {},
     "output_type": "execute_result"
    }
   ],
   "source": []
  },
  {
   "cell_type": "code",
   "execution_count": 22,
   "id": "b82fa59d",
   "metadata": {},
   "outputs": [
    {
     "name": "stdout",
     "output_type": "stream",
     "text": [
      "dict = OrderedCollections.LittleDict{KeldyshContraction.AbstractPosition, KeldyshContraction.PropagatorType, Tuple{KeldyshContraction.Out, KeldyshContraction.In, KeldyshContraction.Bulk}, Tuple{KeldyshContraction.PropagatorType, KeldyshContraction.PropagatorType, KeldyshContraction.PropagatorType}}(KeldyshContraction.Out() => KeldyshContraction.Keldysh, KeldyshContraction.In() => KeldyshContraction.Keldysh, KeldyshContraction.Bulk(1) => KeldyshContraction.Retarded)\n"
     ]
    },
    {
     "ename": "LoadError",
     "evalue": "Classical-Classical for self-energy should be zero.",
     "output_type": "error",
     "traceback": [
      "Classical-Classical for self-energy should be zero.",
      "",
      "Stacktrace:",
      " [1] error(s::String)",
      "   @ Base ./error.jl:35",
      " [2] self_energy_type(dict::OrderedCollections.LittleDict{KeldyshContraction.AbstractPosition, KeldyshContraction.PropagatorType, Tuple{KeldyshContraction.Out, KeldyshContraction.In, KeldyshContraction.Bulk}, Tuple{KeldyshContraction.PropagatorType, KeldyshContraction.PropagatorType, KeldyshContraction.PropagatorType}})",
      "   @ KeldyshContraction ~/Documents/KeldyshContraction.jl/src/self_energy.jl:20",
      " [3] construct_self_energy!(self_energy::OrderedCollections.LittleDict{KeldyshContraction.PropagatorType, Union{Number, SymbolicUtils.Symbolic{<:Number}}, Vector{KeldyshContraction.PropagatorType}, Vector{Union{Number, SymbolicUtils.Symbolic{<:Number}}}}, expr::SymbolicUtils.BasicSymbolic{Number})",
      "   @ KeldyshContraction ~/Documents/KeldyshContraction.jl/src/self_energy.jl:51",
      " [4] SelfEnergy(G::DressedPropagator{SymbolicUtils.BasicSymbolic{Number}, SymbolicUtils.BasicSymbolic{Number}, SymbolicUtils.BasicSymbolic{Number}})",
      "   @ KeldyshContraction ~/Documents/KeldyshContraction.jl/src/self_energy.jl:85",
      " [5] top-level scope",
      "   @ In[22]:1"
     ]
    }
   ],
   "source": [
    "Σ = SelfEnergy(GF)"
   ]
  },
  {
   "cell_type": "code",
   "execution_count": null,
   "id": "e110dcf3",
   "metadata": {},
   "outputs": [],
   "source": []
  }
 ],
 "metadata": {
  "kernelspec": {
   "display_name": "10 threads 1.10.9",
   "language": "julia",
   "name": "10-threads-1.10"
  },
  "language_info": {
   "file_extension": ".jl",
   "mimetype": "application/julia",
   "name": "julia",
   "version": "1.10.9"
  }
 },
 "nbformat": 4,
 "nbformat_minor": 5
}
