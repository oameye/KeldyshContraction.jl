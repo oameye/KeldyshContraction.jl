{
 "cells": [
  {
   "cell_type": "code",
   "execution_count": 2,
   "id": "d404029e",
   "metadata": {},
   "outputs": [
    {
     "name": "stderr",
     "output_type": "stream",
     "text": [
      "\u001b[32m\u001b[1m  Activating\u001b[22m\u001b[39m project at `c:\\Users\\User\\Documents\\GitHub\\KheldyshContraction.jl`\n"
     ]
    }
   ],
   "source": [
    "using Pkg\n",
    "Pkg.activate(\"..\")"
   ]
  },
  {
   "cell_type": "code",
   "execution_count": 5,
   "id": "389bd77c",
   "metadata": {},
   "outputs": [],
   "source": [
    "using KeldyshContraction\n",
    "using KeldyshContraction: Classical, Quantum, Plus, Minus\n",
    "import KeldyshContraction as KC"
   ]
  },
  {
   "cell_type": "code",
   "execution_count": 6,
   "id": "849c6d3c",
   "metadata": {},
   "outputs": [
    {
     "data": {
      "text/latex": [
       "$0.5 \\phi \\phi^{-} \\phi^{-} \\bar{\\phi} \\bar{\\psi} \\bar{\\phi} + 0.5 \\phi \\psi^{-} \\psi^{-} \\bar{\\phi} \\bar{\\psi} \\bar{\\phi} -0.5 \\phi \\phi^{-} \\psi^{-} \\bar{\\phi} \\bar{\\phi} \\bar{\\phi} -0.5 \\phi \\phi^{-} \\psi^{-} \\bar{\\psi} \\bar{\\psi} \\bar{\\phi} + \\phi \\phi^+ \\psi^+ \\bar{\\phi} \\bar{\\psi} \\bar{\\phi} + \\phi \\phi^{-} \\psi^{-} \\bar{\\phi} \\bar{\\psi} \\bar{\\phi}$"
      ],
      "text/plain": [
       "(0.5*(ϕ*ϕ⁻*ϕ⁻*̄ϕ*̄ψ*̄ϕ)+0.5*(ϕ*ψ⁻*ψ⁻*̄ϕ*̄ψ*̄ϕ)+-0.5*(ϕ*ϕ⁻*ψ⁻*̄ϕ*̄ϕ*̄ϕ)+-0.5*(ϕ*ϕ⁻*ψ⁻*̄ψ*̄ψ*̄ϕ)+(ϕ*ϕ⁺*ψ⁺*̄ϕ*̄ψ*̄ϕ)+(ϕ*ϕ⁻*ψ⁻*̄ϕ*̄ψ*̄ϕ))"
      ]
     },
     "execution_count": 6,
     "metadata": {},
     "output_type": "execute_result"
    }
   ],
   "source": [
    "@qfields ϕ::Destroy(Classical) ψ::Destroy(Quantum)\n",
    "\n",
    "L_int =\n",
    "    0.5 * ϕ' * ψ' * (ϕ(Minus) * ϕ(Minus) + ψ(Minus) * ψ(Minus)) -\n",
    "    0.5 * ϕ(Minus) * ψ(Minus) * (ϕ' * ϕ' + ψ' * ψ') +\n",
    "    ϕ' * ψ' * (ϕ(Plus) * ψ(Plus) + ϕ(Minus) * ψ(Minus))\n",
    "\n",
    "expr = ϕ(KC.Out) * ϕ'(KC.In) * L_int"
   ]
  },
  {
   "cell_type": "code",
   "execution_count": 8,
   "id": "1f510d6d",
   "metadata": {},
   "outputs": [
    {
     "data": {
      "text/plain": [
       "true"
      ]
     },
     "execution_count": 8,
     "metadata": {},
     "output_type": "execute_result"
    }
   ],
   "source": [
    "KC.is_conserved(expr)"
   ]
  },
  {
   "cell_type": "code",
   "execution_count": 10,
   "id": "e221f889",
   "metadata": {},
   "outputs": [
    {
     "data": {
      "text/plain": [
       "true"
      ]
     },
     "execution_count": 10,
     "metadata": {},
     "output_type": "execute_result"
    }
   ],
   "source": [
    "KC.is_physical(expr)"
   ]
  },
  {
   "cell_type": "code",
   "execution_count": 13,
   "id": "dcee18c3",
   "metadata": {},
   "outputs": [
    {
     "data": {
      "text/plain": [
       "4-element Vector{Vector{Vector{KeldyshContraction.QField}}}:\n",
       " [[ϕ, ̄ϕ], [ϕ⁻, ̄ψ], [ϕ⁻, ̄ϕ]]\n",
       " [[ϕ, ̄ϕ], [ϕ⁻, ̄ϕ], [ϕ⁻, ̄ψ]]\n",
       " [[ϕ, ̄ψ], [ϕ⁻, ̄ϕ], [ϕ⁻, ̄ϕ]]\n",
       " [[ϕ, ̄ψ], [ϕ⁻, ̄ϕ], [ϕ⁻, ̄ϕ]]"
      ]
     },
     "execution_count": 13,
     "metadata": {},
     "output_type": "execute_result"
    }
   ],
   "source": [
    "wick_contractions = wick_contraction(expr.arguments[1].args_nc)"
   ]
  },
  {
   "cell_type": "code",
   "execution_count": 15,
   "id": "208472ba",
   "metadata": {},
   "outputs": [
    {
     "data": {
      "text/plain": [
       "4-element Vector{Vector{SymbolicUtils.BasicSymbolic{<:KeldyshContraction.Propagator}}}:\n",
       " [Gᴷ(x₁,y), Gᴿ(y⁻,y), Gᴷ(y⁻,x₂)]\n",
       " [Gᴷ(x₁,y), Gᴿ(y⁻,y), Gᴷ(y⁻,x₂)]\n",
       " [Gᴿ(x₁,y), Gᴷ(y⁻,y), Gᴷ(y⁻,x₂)]\n",
       " [Gᴿ(x₁,y), Gᴷ(y⁻,y), Gᴷ(y⁻,x₂)]"
      ]
     },
     "execution_count": 15,
     "metadata": {},
     "output_type": "execute_result"
    }
   ],
   "source": [
    "propagators = KC.make_propagators(wick_contractions)"
   ]
  },
  {
   "cell_type": "code",
   "execution_count": 16,
   "id": "44a14071",
   "metadata": {},
   "outputs": [
    {
     "data": {
      "text/plain": [
       "2-element Vector{Vector{SymbolicUtils.BasicSymbolic{<:KeldyshContraction.Propagator}}}:\n",
       " [Gᴿ(x₁,y), Gᴷ(y⁻,y), Gᴷ(y⁻,x₂)]\n",
       " [Gᴿ(x₁,y), Gᴷ(y⁻,y), Gᴷ(y⁻,x₂)]"
      ]
     },
     "execution_count": 16,
     "metadata": {},
     "output_type": "execute_result"
    }
   ],
   "source": [
    "regularized_wick = regularise(propagators)"
   ]
  },
  {
   "cell_type": "code",
   "execution_count": 17,
   "id": "84707f75",
   "metadata": {},
   "outputs": [
    {
     "data": {
      "text/plain": [
       "Gᴬ(y,x₂)*Gᴿ(y,y)*Gᴷ(x₁,y) + Gᴬ(y,x₂)*Gᴬ(y,y)*Gᴿ(x₁,y) - Gᴬ(y,x₂)*Gᴷ(x₁,y)*Gᴷ(y,y) + 2.0Gᴬ(y,x₂)*Gᴷ(y,y)*Gᴿ(x₁,y) - Gᴬ(y,y)*Gᴷ(y,x₂)*Gᴷ(x₁,y) + Gᴬ(y,y)*Gᴷ(y,x₂)*Gᴿ(x₁,y) + Gᴷ(y,x₂)*Gᴷ(y,y)*Gᴿ(x₁,y)"
      ]
     },
     "execution_count": 17,
     "metadata": {},
     "output_type": "execute_result"
    }
   ],
   "source": [
    "wick_contraction(expr)"
   ]
  },
  {
   "cell_type": "code",
   "execution_count": null,
   "id": "b231ee32",
   "metadata": {},
   "outputs": [],
   "source": []
  }
 ],
 "metadata": {
  "kernelspec": {
   "display_name": "10 threads 1.10.9",
   "language": "julia",
   "name": "10-threads-1.10"
  },
  "language_info": {
   "file_extension": ".jl",
   "mimetype": "application/julia",
   "name": "julia",
   "version": "1.10.9"
  }
 },
 "nbformat": 4,
 "nbformat_minor": 5
}
