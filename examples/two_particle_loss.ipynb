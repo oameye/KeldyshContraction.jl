{
 "cells": [
  {
   "cell_type": "code",
   "execution_count": 1,
   "id": "d404029e",
   "metadata": {},
   "outputs": [
    {
     "name": "stderr",
     "output_type": "stream",
     "text": [
      "\u001b[32m\u001b[1m  Activating\u001b[22m\u001b[39m project at `c:\\Users\\User\\Documents\\GitHub\\KheldyshContraction.jl\\examples`\n"
     ]
    }
   ],
   "source": [
    "using DrWatson\n",
    "@quickactivate \"LossyTransport\""
   ]
  },
  {
   "cell_type": "code",
   "execution_count": 2,
   "id": "389bd77c",
   "metadata": {},
   "outputs": [
    {
     "name": "stderr",
     "output_type": "stream",
     "text": [
      "\u001b[36m\u001b[1m[ \u001b[22m\u001b[39m\u001b[36m\u001b[1mInfo: \u001b[22m\u001b[39mPrecompiling KeldyshContraction [da6be1f2-7f61-475e-9253-2fea1ca4beca]\n"
     ]
    }
   ],
   "source": [
    "using KeldyshContraction\n",
    "using KeldyshContraction: Classical, Quantum, Plus, Minus"
   ]
  },
  {
   "cell_type": "code",
   "execution_count": 3,
   "id": "849c6d3c",
   "metadata": {},
   "outputs": [
    {
     "data": {
      "text/latex": [
       "$0.5 \\phi^{-} \\phi^{-} \\bar{\\phi} \\bar{\\psi} + 0.5 \\psi^{-} \\psi^{-} \\bar{\\phi} \\bar{\\psi} -0.5 \\phi^+ \\psi^+ \\bar{\\phi} \\bar{\\phi} -0.5 \\phi^+ \\psi^+ \\bar{\\psi} \\bar{\\psi} + \\phi^+ \\psi^+ \\bar{\\phi} \\bar{\\psi} + \\phi^{-} \\psi^{-} \\bar{\\phi} \\bar{\\psi}$"
      ],
      "text/plain": [
       "Interaction Lagrangian with fields ϕ and ψ:\n",
       "(0.5*(ϕ⁻*ϕ⁻*̄ϕ*̄ψ)+0.5*(ψ⁻*ψ⁻*̄ϕ*̄ψ)+-0.5*(ϕ⁺*ψ⁺*̄ϕ*̄ϕ)+-0.5*(ϕ⁺*ψ⁺*̄ψ*̄ψ)+(ϕ⁺*ψ⁺*̄ϕ*̄ψ)+(ϕ⁻*ψ⁻*̄ϕ*̄ψ))"
      ]
     },
     "execution_count": 3,
     "metadata": {},
     "output_type": "execute_result"
    }
   ],
   "source": [
    "@qfields ϕ::Destroy(Classical) ψ::Destroy(Quantum)\n",
    "\n",
    "loss2boson =\n",
    "    0.5 * ϕ' * ψ' * (ϕ(Minus) * ϕ(Minus) + ψ(Minus) * ψ(Minus)) -\n",
    "    0.5 * ϕ(Plus) * ψ(Plus) * (ϕ' * ϕ' + ψ' * ψ') +\n",
    "    ϕ' * ψ' * (ϕ(Plus) * ψ(Plus) + ϕ(Minus) * ψ(Minus))\n",
    "L_int = InteractionLagrangian(loss2boson)"
   ]
  },
  {
   "cell_type": "code",
   "execution_count": 4,
   "id": "b7465942",
   "metadata": {},
   "outputs": [
    {
     "data": {
      "text/plain": [
       "Dressed Propagator:\n",
       "keldysh:  Gᴬ(y,x₂)*Gᴿ(x₁,y)*Gᴬ(y,y) + 2.0Gᴬ(y,x₂)*Gᴿ(x₁,y)*Gᴷ(y,y) - Gᴬ(y,x₂)*Gᴿ(x₁,y)*Gᴿ(y,y) - Gᴬ(y,x₂)*Gᴷ(x₁,y)*Gᴷ(y,y) + Gᴬ(y,x₂)*Gᴷ(x₁,y)*Gᴿ(y,y) + Gᴿ(x₁,y)*Gᴬ(y,y)*Gᴷ(y,x₂) + Gᴿ(x₁,y)*Gᴷ(y,y)*Gᴷ(y,x₂)\n",
       "retarded: Gᴿ(x₁,y)*Gᴬ(y,y)*Gᴿ(y,x₂) + Gᴿ(x₁,y)*Gᴷ(y,y)*Gᴿ(y,x₂)\n",
       "advanced: -Gᴬ(y,x₂)*Gᴷ(y,y)*Gᴬ(x₁,y) + Gᴬ(y,x₂)*Gᴬ(x₁,y)*Gᴿ(y,y)"
      ]
     },
     "execution_count": 4,
     "metadata": {},
     "output_type": "execute_result"
    }
   ],
   "source": [
    "GF = wick_contraction(L_int)"
   ]
  },
  {
   "cell_type": "code",
   "execution_count": 5,
   "id": "6b02a0c2",
   "metadata": {},
   "outputs": [
    {
     "data": {
      "text/plain": [
       "Self Energy:\n",
       "keldysh:  Gᴬ(y,y) + 2.0Gᴷ(y,y) - Gᴿ(y,y)\n",
       "retarded: -Gᴷ(y,y) + Gᴿ(y,y)\n",
       "advanced: Gᴬ(y,y) + Gᴷ(y,y)"
      ]
     },
     "execution_count": 5,
     "metadata": {},
     "output_type": "execute_result"
    }
   ],
   "source": [
    "Σ = SelfEnergy(GF)"
   ]
  },
  {
   "cell_type": "code",
   "execution_count": 6,
   "id": "a0553be3",
   "metadata": {},
   "outputs": [
    {
     "data": {
      "text/latex": [
       "$G^A\\left( y, y \\right) + G^K\\left( y, y \\right)$"
      ],
      "text/plain": [
       "Gᴬ(y,y) + Gᴷ(y,y)"
      ]
     },
     "execution_count": 6,
     "metadata": {},
     "output_type": "execute_result"
    }
   ],
   "source": [
    "Σ.advanced"
   ]
  }
 ],
 "metadata": {
  "kernelspec": {
   "display_name": "10 threads 1.10.9",
   "language": "julia",
   "name": "10-threads-1.10"
  },
  "language_info": {
   "file_extension": ".jl",
   "mimetype": "application/julia",
   "name": "julia",
   "version": "1.10.9"
  }
 },
 "nbformat": 4,
 "nbformat_minor": 5
}
