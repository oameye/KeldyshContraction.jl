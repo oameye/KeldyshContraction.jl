{
 "cells": [
  {
   "cell_type": "code",
   "execution_count": 3,
   "id": "56901c4a",
   "metadata": {},
   "outputs": [],
   "source": [
    "using DrWatson\n",
    "@quickactivate \"LossyTransport\""
   ]
  },
  {
   "cell_type": "code",
   "execution_count": 4,
   "id": "34ad9914",
   "metadata": {},
   "outputs": [
    {
     "name": "stderr",
     "output_type": "stream",
     "text": [
      "\u001b[36m\u001b[1m[ \u001b[22m\u001b[39m\u001b[36m\u001b[1mInfo: \u001b[22m\u001b[39mPrecompiling KeldyshContraction [da6be1f2-7f61-475e-9253-2fea1ca4beca]\n"
     ]
    }
   ],
   "source": [
    "using KeldyshContraction\n",
    "using KeldyshContraction: Classical, Quantum, Plus, Minus"
   ]
  },
  {
   "cell_type": "code",
   "execution_count": 5,
   "id": "43c1586c",
   "metadata": {},
   "outputs": [
    {
     "data": {
      "text/latex": [
       "$0.5 \\phi^{-} \\phi^{-} \\bar{\\phi} \\bar{\\psi} + 0.5 \\psi^{-} \\psi^{-} \\bar{\\phi} \\bar{\\psi} -0.5 \\phi^+ \\psi^+ \\bar{\\phi} \\bar{\\phi} -0.5 \\phi^+ \\psi^+ \\bar{\\psi} \\bar{\\psi}$"
      ],
      "text/plain": [
       "Interaction Lagrangian with fields ϕ and ψ:\n",
       "(0.5*(ϕ⁻*ϕ⁻*̄ϕ*̄ψ)+0.5*(ψ⁻*ψ⁻*̄ϕ*̄ψ)+-0.5*(ϕ⁺*ψ⁺*̄ϕ*̄ϕ)+-0.5*(ϕ⁺*ψ⁺*̄ψ*̄ψ))"
      ]
     },
     "execution_count": 5,
     "metadata": {},
     "output_type": "execute_result"
    }
   ],
   "source": [
    "@qfields ϕ::Destroy(Classical) ψ::Destroy(Quantum)\n",
    "\n",
    "eleactic2boson =  0.5 * ϕ' * ψ' * (ϕ(Minus)^2 + ψ(Minus)^2) - 0.5 * ϕ(Plus) * ψ(Plus) * (ϕ'^2 + ψ'^2) \n",
    "L_int = InteractionLagrangian(eleactic2boson)"
   ]
  },
  {
   "cell_type": "code",
   "execution_count": 6,
   "id": "91fbd633",
   "metadata": {},
   "outputs": [
    {
     "data": {
      "text/plain": [
       "Dressed Propagator:\n",
       "keldysh:  (0.0 - 1.0im)*Gᴬ(y₁,x₂)*Gᴬ(y₁,y₁)*Gᴿ(x₁,y₁) + (0.0 + 1.0im)*Gᴬ(y₁,x₂)*Gᴿ(y₁,y₁)*Gᴿ(x₁,y₁) + (0.0 + 1.0im)*Gᴬ(y₁,x₂)*Gᴷ(x₁,y₁)*Gᴷ(y₁,y₁) + (0.0 - 1.0im)*Gᴿ(x₁,y₁)*Gᴷ(y₁,y₁)*Gᴷ(y₁,x₂)\n",
       "retarded: (0.0 - 1.0im)*Gᴿ(y₁,x₂)*Gᴿ(x₁,y₁)*Gᴷ(y₁,y₁)\n",
       "advanced: (-0.0 + 1.0im)*Gᴬ(y₁,x₂)*Gᴬ(x₁,y₁)*Gᴷ(y₁,y₁)"
      ]
     },
     "execution_count": 6,
     "metadata": {},
     "output_type": "execute_result"
    }
   ],
   "source": [
    "GF = wick_contraction(L_int)"
   ]
  },
  {
   "cell_type": "code",
   "execution_count": 14,
   "id": "297c4e9b",
   "metadata": {},
   "outputs": [
    {
     "data": {
      "text/plain": [
       "(0.0 + 1.0im)*Gᴬ(y₁,x₂)*Gᴬ(y₁,y₁)*Gᴿ(x₁,y₁) + (0.0 + 1.0im)*Gᴬ(y₁,x₂)*Gᴿ(y₁,y₁)*Gᴿ(x₁,y₁) + (0.0 + 1.0im)*Gᴬ(y₁,x₂)*Gᴷ(x₁,y₁)*Gᴷ(y₁,y₁) + (-0.0 + 1.0im)*Gᴬ(y₁,y₁)*Gᴷ(x₁,y₁)*Gᴷ(y₁,x₂) + (0.0 + 1.0im)*Gᴿ(y₁,y₁)*Gᴷ(x₁,y₁)*Gᴷ(y₁,x₂) + (0.0 + 1.0im)*Gᴿ(x₁,y₁)*Gᴷ(y₁,y₁)*Gᴷ(y₁,x₂)"
      ]
     },
     "execution_count": 14,
     "metadata": {},
     "output_type": "execute_result"
    }
   ],
   "source": [
    "GF.keldysh"
   ]
  },
  {
   "cell_type": "code",
   "execution_count": 7,
   "id": "4242b387",
   "metadata": {},
   "outputs": [
    {
     "data": {
      "text/plain": [
       "Self Energy:\n",
       "keldysh:  (0.0 - 1.0im)*Gᴬ(y₁,y₁) + (0.0 + 1.0im)*Gᴿ(y₁,y₁)\n",
       "retarded: (0.0 - 1.0im)*Gᴷ(y₁,y₁)\n",
       "advanced: (0.0 + 1.0im)*Gᴷ(y₁,y₁)"
      ]
     },
     "execution_count": 7,
     "metadata": {},
     "output_type": "execute_result"
    }
   ],
   "source": [
    "Σ = SelfEnergy(GF)"
   ]
  },
  {
   "cell_type": "code",
   "execution_count": 8,
   "id": "71cfc80c",
   "metadata": {},
   "outputs": [
    {
     "data": {
      "text/plain": [
       "(0.0 + 1.0im)*Gᴷ(y₁,y₁)"
      ]
     },
     "execution_count": 8,
     "metadata": {},
     "output_type": "execute_result"
    }
   ],
   "source": [
    "Σ.advanced"
   ]
  },
  {
   "cell_type": "code",
   "execution_count": 9,
   "id": "03ed36ed",
   "metadata": {},
   "outputs": [
    {
     "data": {
      "text/latex": [
       "$-0.5 \\phi \\phi \\bar{\\phi} \\bar{\\psi} -0.5 \\psi \\psi \\bar{\\phi} \\bar{\\psi} -0.5 \\phi \\psi \\bar{\\phi} \\bar{\\phi} -0.5 \\phi \\psi \\bar{\\psi} \\bar{\\psi}$"
      ],
      "text/plain": [
       "Interaction Lagrangian with fields ϕ and ψ:\n",
       "(-0.5*(ϕ*ϕ*̄ϕ*̄ψ)+-0.5*(ψ*ψ*̄ϕ*̄ψ)+-0.5*(ϕ*ψ*̄ϕ*̄ϕ)+-0.5*(ϕ*ψ*̄ψ*̄ψ))"
      ]
     },
     "execution_count": 9,
     "metadata": {},
     "output_type": "execute_result"
    }
   ],
   "source": [
    "@qfields ϕ::Destroy(Classical) ψ::Destroy(Quantum)\n",
    "\n",
    "eleactic2boson =  - 0.5 * ϕ' * ψ' * (ϕ^2 + ψ^2) - 0.5 * ϕ * ψ * (ϕ'^2 + ψ'^2) \n",
    "L_int = InteractionLagrangian(eleactic2boson)"
   ]
  },
  {
   "cell_type": "code",
   "execution_count": 12,
   "id": "8d32a3dc",
   "metadata": {},
   "outputs": [
    {
     "data": {
      "text/plain": [
       "Dressed Propagator:\n",
       "keldysh:  (0.0 + 1.0im)*Gᴬ(y₁,x₂)*Gᴬ(y₁,y₁)*Gᴿ(x₁,y₁) + (0.0 + 1.0im)*Gᴬ(y₁,x₂)*Gᴿ(y₁,y₁)*Gᴿ(x₁,y₁) + (0.0 + 1.0im)*Gᴬ(y₁,x₂)*Gᴷ(x₁,y₁)*Gᴷ(y₁,y₁) + (-0.0 + 1.0im)*Gᴬ(y₁,y₁)*Gᴷ(x₁,y₁)*Gᴷ(y₁,x₂) + (0.0 + 1.0im)*Gᴿ(y₁,y₁)*Gᴷ(x₁,y₁)*Gᴷ(y₁,x₂) + (0.0 + 1.0im)*Gᴿ(x₁,y₁)*Gᴷ(y₁,y₁)*Gᴷ(y₁,x₂)\n",
       "retarded: (0.0 + 1.0im)*Gᴿ(y₁,x₂)*Gᴬ(y₁,y₁)*Gᴷ(x₁,y₁) + (0.0 + 1.0im)*Gᴿ(y₁,x₂)*Gᴿ(y₁,y₁)*Gᴷ(x₁,y₁) + (0.0 + 1.0im)*Gᴿ(y₁,x₂)*Gᴿ(x₁,y₁)*Gᴷ(y₁,y₁)\n",
       "advanced: (0.0 + 1.0im)*Gᴬ(y₁,x₂)*Gᴬ(x₁,y₁)*Gᴷ(y₁,y₁) + (-0.0 + 1.0im)*Gᴬ(y₁,y₁)*Gᴬ(x₁,y₁)*Gᴷ(y₁,x₂) + (0.0 + 1.0im)*Gᴬ(x₁,y₁)*Gᴿ(y₁,y₁)*Gᴷ(y₁,x₂)"
      ]
     },
     "execution_count": 12,
     "metadata": {},
     "output_type": "execute_result"
    }
   ],
   "source": [
    "GF = wick_contraction(L_int)"
   ]
  },
  {
   "cell_type": "code",
   "execution_count": null,
   "id": "d2488a40",
   "metadata": {},
   "outputs": [],
   "source": [
    "GF"
   ]
  },
  {
   "cell_type": "code",
   "execution_count": 13,
   "id": "b82fa59d",
   "metadata": {},
   "outputs": [
    {
     "name": "stdout",
     "output_type": "stream",
     "text": [
      "dict = OrderedCollections.LittleDict{KeldyshContraction.AbstractPosition, KeldyshContraction.PropagatorType, Tuple{KeldyshContraction.Out, KeldyshContraction.In, KeldyshContraction.Bulk}, Tuple{KeldyshContraction.PropagatorType, KeldyshContraction.PropagatorType, KeldyshContraction.PropagatorType}}(KeldyshContraction.Out() => KeldyshContraction.Keldysh, KeldyshContraction.In() => KeldyshContraction.Keldysh, KeldyshContraction.Bulk(1) => KeldyshContraction.Advanced)\n"
     ]
    },
    {
     "ename": "LoadError",
     "evalue": "Classical-Classical for self-energy should be zero.",
     "output_type": "error",
     "traceback": [
      "Classical-Classical for self-energy should be zero.",
      "",
      "Stacktrace:",
      " [1] error(s::String)",
      "   @ Base .\\error.jl:35",
      " [2] self_energy_type(dict::OrderedCollections.LittleDict{KeldyshContraction.AbstractPosition, KeldyshContraction.PropagatorType, Tuple{KeldyshContraction.Out, KeldyshContraction.In, KeldyshContraction.Bulk}, Tuple{KeldyshContraction.PropagatorType, KeldyshContraction.PropagatorType, KeldyshContraction.PropagatorType}})",
      "   @ KeldyshContraction c:\\Users\\User\\Documents\\GitHub\\KheldyshContraction.jl\\src\\self_energy.jl:24",
      " [3] construct_self_energy!(self_energy::OrderedCollections.LittleDict{KeldyshContraction.PropagatorType, Union{Number, SymbolicUtils.Symbolic{<:Number}}, Vector{KeldyshContraction.PropagatorType}, Vector{Union{Number, SymbolicUtils.Symbolic{<:Number}}}}, expr::SymbolicUtils.BasicSymbolic{Number})",
      "   @ KeldyshContraction c:\\Users\\User\\Documents\\GitHub\\KheldyshContraction.jl\\src\\self_energy.jl:54",
      " [4] SelfEnergy(G::DressedPropagator{SymbolicUtils.BasicSymbolic{Number}, SymbolicUtils.BasicSymbolic{Number}, SymbolicUtils.BasicSymbolic{Number}})",
      "   @ KeldyshContraction c:\\Users\\User\\Documents\\GitHub\\KheldyshContraction.jl\\src\\self_energy.jl:88",
      " [5] top-level scope",
      "   @ In[13]:1"
     ]
    }
   ],
   "source": [
    "Σ = SelfEnergy(GF)"
   ]
  },
  {
   "cell_type": "code",
   "execution_count": null,
   "id": "e110dcf3",
   "metadata": {},
   "outputs": [],
   "source": []
  }
 ],
 "metadata": {
  "kernelspec": {
   "display_name": "10 threads 1.10.9",
   "language": "julia",
   "name": "10-threads-1.10"
  },
  "language_info": {
   "file_extension": ".jl",
   "mimetype": "application/julia",
   "name": "julia",
   "version": "1.10.9"
  }
 },
 "nbformat": 4,
 "nbformat_minor": 5
}
