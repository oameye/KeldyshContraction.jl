{
 "cells": [
  {
   "cell_type": "code",
   "execution_count": 1,
   "id": "d404029e",
   "metadata": {},
   "outputs": [
    {
     "name": "stderr",
     "output_type": "stream",
     "text": [
      "\u001b[32m\u001b[1m  Activating\u001b[22m\u001b[39m project at `~/Documents/KeldyshContraction.jl/examples`\n"
     ]
    }
   ],
   "source": [
    "using DrWatson\n",
    "@quickactivate \"LossyTransport\""
   ]
  },
  {
   "cell_type": "code",
   "execution_count": 2,
   "id": "389bd77c",
   "metadata": {},
   "outputs": [],
   "source": [
    "using KeldyshContraction\n",
    "using KeldyshContraction: Classical, Quantum, Plus, Minus"
   ]
  },
  {
   "cell_type": "code",
   "execution_count": 3,
   "id": "849c6d3c",
   "metadata": {},
   "outputs": [
    {
     "data": {
      "text/latex": [
       "$0.5 i \\phi^{-} \\phi^{-} \\bar{\\phi} \\bar{\\psi} + 0.5 i \\psi^{-} \\psi^{-} \\bar{\\phi} \\bar{\\psi} -0.5 i \\phi^+ \\psi^+ \\bar{\\phi} \\bar{\\phi} -0.5 i \\phi^+ \\psi^+ \\bar{\\psi} \\bar{\\psi} + 1 i \\phi^+ \\psi^+ \\bar{\\phi} \\bar{\\psi} + 1 i \\phi^{-} \\psi^{-} \\bar{\\phi} \\bar{\\psi}$"
      ],
      "text/plain": [
       "Interaction Lagrangian with fields ϕ and ψ:\n",
       "((0.0 + 0.5im)*(ϕ⁻*ϕ⁻*̄ϕ*̄ψ)+(0.0 + 0.5im)*(ψ⁻*ψ⁻*̄ϕ*̄ψ)+(-0.0 - 0.5im)*(ϕ⁺*ψ⁺*̄ϕ*̄ϕ)+(-0.0 - 0.5im)*(ϕ⁺*ψ⁺*̄ψ*̄ψ)+(0 + 1im)*(ϕ⁺*ψ⁺*̄ϕ*̄ψ)+(0 + 1im)*(ϕ⁻*ψ⁻*̄ϕ*̄ψ))"
      ]
     },
     "execution_count": 3,
     "metadata": {},
     "output_type": "execute_result"
    }
   ],
   "source": [
    "@qfields ϕ::Destroy(Classical) ψ::Destroy(Quantum)\n",
    "@syms Γ::Real\n",
    "\n",
    "loss2boson = im*(\n",
    "    0.5 * ϕ' * ψ' * (ϕ(Minus) * ϕ(Minus) + ψ(Minus) * ψ(Minus)) -\n",
    "    0.5 * ϕ(Plus) * ψ(Plus) * (ϕ' * ϕ' + ψ' * ψ') +\n",
    "    ϕ' * ψ' * (ϕ(Plus) * ψ(Plus) + ϕ(Minus) * ψ(Minus))\n",
    ")\n",
    "L_int = InteractionLagrangian(loss2boson)"
   ]
  },
  {
   "cell_type": "code",
   "execution_count": 4,
   "id": "b7465942",
   "metadata": {},
   "outputs": [
    {
     "data": {
      "text/plain": [
       "Dressed Propagator:\n",
       "keldysh:  -Gᴬ(y₁,x₂)*Gᴿ(y₁,y₁)*Gᴿ(x₁,y₁) + Gᴬ(y₁,x₂)*Gᴿ(y₁,y₁)*Gᴷ(x₁,y₁) + 2.0Gᴬ(y₁,x₂)*Gᴷ(y₁,y₁)*Gᴿ(x₁,y₁) - Gᴬ(y₁,x₂)*Gᴷ(y₁,y₁)*Gᴷ(x₁,y₁) + Gᴬ(y₁,x₂)*Gᴬ(y₁,y₁)*Gᴿ(x₁,y₁) + Gᴷ(y₁,y₁)*Gᴿ(x₁,y₁)*Gᴷ(y₁,x₂) + Gᴬ(y₁,y₁)*Gᴿ(x₁,y₁)*Gᴷ(y₁,x₂)\n",
       "retarded: Gᴷ(y₁,y₁)*Gᴿ(x₁,y₁)*Gᴿ(y₁,x₂) + Gᴬ(y₁,y₁)*Gᴿ(x₁,y₁)*Gᴿ(y₁,x₂)\n",
       "advanced: Gᴬ(x₁,y₁)*Gᴬ(y₁,x₂)*Gᴿ(y₁,y₁) - Gᴬ(x₁,y₁)*Gᴬ(y₁,x₂)*Gᴷ(y₁,y₁)"
      ]
     },
     "execution_count": 4,
     "metadata": {},
     "output_type": "execute_result"
    }
   ],
   "source": [
    "GF = wick_contraction(L_int)"
   ]
  },
  {
   "cell_type": "code",
   "execution_count": 5,
   "id": "6b02a0c2",
   "metadata": {},
   "outputs": [
    {
     "data": {
      "text/plain": [
       "Self Energy:\n",
       "keldysh:  -Gᴿ(y₁,y₁) + 2.0Gᴷ(y₁,y₁) + Gᴬ(y₁,y₁)\n",
       "retarded: Gᴷ(y₁,y₁) + Gᴬ(y₁,y₁)\n",
       "advanced: Gᴿ(y₁,y₁) - Gᴷ(y₁,y₁)"
      ]
     },
     "execution_count": 5,
     "metadata": {},
     "output_type": "execute_result"
    }
   ],
   "source": [
    "Σ = SelfEnergy(GF)"
   ]
  },
  {
   "cell_type": "code",
   "execution_count": 9,
   "id": "abce9bed",
   "metadata": {},
   "outputs": [
    {
     "data": {
      "text/plain": [
       "-Gᴿ(y₁,y₁) + 2.0Gᴷ(y₁,y₁) + Gᴬ(y₁,y₁)"
      ]
     },
     "execution_count": 9,
     "metadata": {},
     "output_type": "execute_result"
    }
   ],
   "source": [
    "using KeldyshContraction: make_propagator\n",
    "using SymbolicUtils\n",
    "dict = Dict(make_propagator(ϕ, ψ) => make_propagator(ψ, ϕ)+2*im*imag(make_propagator(ϕ, ψ) ))\n",
    "substitute(Σ.keldysh, dict)"
   ]
  }
 ],
 "metadata": {
  "kernelspec": {
   "display_name": "10 threads 1.10.9",
   "language": "julia",
   "name": "10-threads-1.10"
  },
  "language_info": {
   "file_extension": ".jl",
   "mimetype": "application/julia",
   "name": "julia",
   "version": "1.10.9"
  }
 },
 "nbformat": 4,
 "nbformat_minor": 5
}
