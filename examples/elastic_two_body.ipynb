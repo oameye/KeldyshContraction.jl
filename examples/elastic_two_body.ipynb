{
 "cells": [
  {
   "cell_type": "markdown",
   "source": [
    "## Elastic Two Body Scattering"
   ],
   "metadata": {}
  },
  {
   "outputs": [],
   "cell_type": "code",
   "source": [
    "using KeldyshContraction"
   ],
   "metadata": {},
   "execution_count": 1
  },
  {
   "cell_type": "markdown",
   "source": [
    "## System"
   ],
   "metadata": {}
  },
  {
   "cell_type": "markdown",
   "source": [
    "The interaction action of elastic two body scattering, is defined as\n",
    "$$\n",
    "S_\\mathrm{int} = -\\frac{g}{2} \\int d^d x \\, [(\\bar{\\phi}^+\\phi^+)^2 - (\\bar{\\phi}^-\\phi^-)^2 ]\n",
    "$$\n",
    "Above interaction can typically represent s-wave scattering of bosons."
   ],
   "metadata": {}
  },
  {
   "cell_type": "markdown",
   "source": [
    "In the RAK basis, this gives\n",
    "$$\n",
    "S_\\mathrm{int} = -\\frac{g}{2} \\int d^d x \\, [(\\bar{\\phi}^c\\bar{\\phi}^q\\phi^c\\phi^c)\n",
    "+(\\bar{\\phi}^c\\bar{\\phi}^q\\phi^q\\phi^q) + c.c.]\n",
    "$$"
   ],
   "metadata": {}
  },
  {
   "cell_type": "markdown",
   "source": [
    "Let us represent this quantum and classical field inside the `KeldyshContraction` package\n",
    "and define the interaction Lagrangian:"
   ],
   "metadata": {}
  },
  {
   "outputs": [
    {
     "output_type": "execute_result",
     "data": {
      "text/plain": "Interaction Lagrangian with fields c and q:\n(-0.5*(c*c*̄q*̄c)+-0.5*(q*q*̄q*̄c)+-0.5*(q*c*̄c*̄c)+-0.5*(q*c*̄q*̄q))",
      "text/latex": "$-0.5 c c \\bar{q} \\bar{c} -0.5 q q \\bar{q} \\bar{c} -0.5 q c \\bar{c} \\bar{c} -0.5 q c \\bar{q} \\bar{q}$"
     },
     "metadata": {},
     "execution_count": 2
    }
   ],
   "cell_type": "code",
   "source": [
    "@qfields c::Destroy(Classical) q::Destroy(Quantum)\n",
    "elasctic2boson = -(0.5 * (c^2 + q^2) * c' * q' + 0.5 * c * q * ((c')^2 + (q')^2))\n",
    "L_int = InteractionLagrangian(elasctic2boson)"
   ],
   "metadata": {},
   "execution_count": 2
  },
  {
   "cell_type": "markdown",
   "source": [
    "TODO: misus sign comes from ∂_t-H\n",
    "A good check if the interaction Lagrangian is a valid physical process, is to check if the\n",
    "normalization identity $Z=1$ holds. We can do this perturbatively in $g$ by expanding\n",
    "$\\exp(i S_\\mathrm{int})$  and showing the average of the linear part of the system is zero\n",
    "$$\n",
    "\\langle S_\\mathrm{int}\\rangle =  \\langle S_\\mathrm{int}^2\\rangle  =\\ldots = 0\n",
    "$$\n",
    "In computing the average, one performs Wick contractions to describe the average in terms\n",
    "of the two-point correlators of the linear part of the system."
   ],
   "metadata": {}
  },
  {
   "cell_type": "markdown",
   "source": [
    "In the package we can do this as follows:"
   ],
   "metadata": {}
  },
  {
   "outputs": [
    {
     "output_type": "execute_result",
     "data": {
      "text/plain": "Gᴷ(y₁,y₁)*Gᴿ(y₁,y₁) + Gᴷ(y₁,y₁)*Gᴬ(y₁,y₁)",
      "text/latex": "$G^K\\left( y_1, y_1 \\right) \\cdot G^R\\left( y_1, y_1 \\right) + G^K\\left( y_1, y_1 \\right) \\cdot G^A\\left( y_1, y_1 \\right)$"
     },
     "metadata": {},
     "execution_count": 3
    }
   ],
   "cell_type": "code",
   "source": [
    "wick_contraction(elasctic2boson; simplify=false)"
   ],
   "metadata": {},
   "execution_count": 3
  },
  {
   "cell_type": "markdown",
   "source": [
    "However, to show that these diagrams cancel out, we need to apply to condition $G^R = - G^A$.\n",
    "Inside the package we do this by"
   ],
   "metadata": {}
  },
  {
   "outputs": [
    {
     "output_type": "execute_result",
     "data": {
      "text/plain": "0.0*Gᴷ(y₁,y₁)*Gᴿ(y₁,y₁)",
      "text/latex": "$0.0 \\cdot G^K\\left( y_1, y_1 \\right) \\cdot G^R\\left( y_1, y_1 \\right)$"
     },
     "metadata": {},
     "execution_count": 4
    }
   ],
   "cell_type": "code",
   "source": [
    "wick_contraction(elasctic2boson; simplify=true)"
   ],
   "metadata": {},
   "execution_count": 4
  },
  {
   "cell_type": "markdown",
   "source": [
    "Similarly, we can compute the next orders."
   ],
   "metadata": {}
  },
  {
   "cell_type": "markdown",
   "source": [
    "## First order Green's function"
   ],
   "metadata": {}
  },
  {
   "cell_type": "markdown",
   "source": [
    "To compute the two point Green's functions of the interacting system, we can apply\n",
    " self-consistent perturbation theory. By again expanding in $g$ we can write\n",
    "$$\n",
    "\\begin{aligned}\n",
    "& i G^{\\mu \\nu}\\left(x_1, x_2\\right)=\\int \\mathcal{D}\\left[\\phi_c, \\bar{\\phi}_c, \\phi_q, \\bar{\\phi}_q\\right] \\phi_\\mu\\left(x_1\\right) \\bar{\\phi}_\\nu\\left(x_2\\right) \\sum_{k=0}^{\\infty} \\frac{i^k S_{\\mathrm{int}}^k}{k!} e^{i S_0}= \\\\\n",
    "& \\quad=i G_0^{\\mu \\nu}\\left(x_1, x_2\\right)+i \\int d^d y d t_y\\left\\langle\\phi_\\mu\\left(x_1\\right) \\bar{\\phi}_\\nu\\left(x_2\\right) \\mathcal{L}_{\\mathrm{int}}(y)\\right\\rangle_0+\\sum_{k=2}^{\\infty}\\left\\langle\\phi_\\mu\\left(x_1\\right) \\bar{\\phi}_\\nu\\left(x_2\\right) \\frac{i^k S_{\\mathrm{int}}^k}{k!}\\right\\rangle_0 .\n",
    "\\end{aligned}\n",
    "$$"
   ],
   "metadata": {}
  },
  {
   "cell_type": "markdown",
   "source": [
    "So we can compute the first order Green's function correction $G_{(1)}$ by computing\n",
    "the Wick contraction of the interaction Lagrangian"
   ],
   "metadata": {}
  },
  {
   "outputs": [
    {
     "output_type": "execute_result",
     "data": {
      "text/plain": "Dressed Propagator:\nkeldysh:  (0.0 + 1.0im)*Gᴿ(x₁,y₁)*Gᴷ(y₁,y₁)*Gᴷ(y₁,x₂) + (0.0 + 1.0im)*Gᴷ(x₁,y₁)*Gᴷ(y₁,y₁)*Gᴬ(y₁,x₂)\nretarded: (0.0 + 1.0im)*Gᴿ(x₁,y₁)*Gᴷ(y₁,y₁)*Gᴿ(y₁,x₂)\nadvanced: (0.0 + 1.0im)*Gᴬ(x₁,y₁)*Gᴷ(y₁,y₁)*Gᴬ(y₁,x₂)"
     },
     "metadata": {},
     "execution_count": 5
    }
   ],
   "cell_type": "code",
   "source": [
    "GF = DressedPropagator(L_int)"
   ],
   "metadata": {},
   "execution_count": 5
  },
  {
   "cell_type": "markdown",
   "source": [
    "Here, the simplification of the advanced to retarded propagator is done internally."
   ],
   "metadata": {}
  },
  {
   "cell_type": "markdown",
   "source": [
    "## Self-Energy"
   ],
   "metadata": {}
  },
  {
   "cell_type": "markdown",
   "source": [
    "Often we are interested in the self-energy of the system, which is defined as\n",
    "the set of irreducible diagrams. Inside the package we can compute these to an order $g$ by"
   ],
   "metadata": {}
  },
  {
   "outputs": [
    {
     "output_type": "execute_result",
     "data": {
      "text/plain": "Self Energy:\nkeldysh:  \nretarded: (0.0 + 1.0im)*Gᴷ(y₁,y₁)\nadvanced: (0.0 + 1.0im)*Gᴷ(y₁,y₁)"
     },
     "metadata": {},
     "execution_count": 6
    }
   ],
   "cell_type": "code",
   "source": [
    "Σ = SelfEnergy(GF)"
   ],
   "metadata": {},
   "execution_count": 6
  },
  {
   "cell_type": "markdown",
   "source": [
    "## Transport"
   ],
   "metadata": {}
  },
  {
   "cell_type": "markdown",
   "source": [
    "The self-energy can be used to compute derive a kinetic equation for the system.\n",
    "In doing this one compute the so-called collision integral, which is given by\n",
    "$$\n",
    "I _\\mathrm{coll}= i Σ^K(x, p) +  F (x, p) (Σ^R(x, p)-Σ^A(x, p)).\n",
    "$$\n",
    "Here, $F$ is the bosonic distribution function of the system.\n",
    "However, from above calculation we find that $i Σ^K(x, p) = 0$ and $Σ^R(x, p)=Σ^A(x, p)$,\n",
    "such that the collision integral has not contribution at first order."
   ],
   "metadata": {}
  },
  {
   "cell_type": "markdown",
   "source": [
    "## Second order"
   ],
   "metadata": {}
  },
  {
   "cell_type": "markdown",
   "source": [
    "In second order, we have many additional terms for the dressed propagator.\n",
    "These involve now 5 propagators:"
   ],
   "metadata": {}
  },
  {
   "outputs": [
    {
     "name": "stdout",
     "output_type": "stream",
     "text": [
      "[ Info: Has zero loop\n",
      "[ Info: Has zero loop\n",
      "[ Info: Has zero loop\n",
      "[ Info: Has zero loop\n",
      "[ Info: Has zero loop\n",
      "[ Info: Has zero loop\n",
      "[ Info: Has zero loop\n",
      "[ Info: Has zero loop\n",
      "[ Info: Contraction is not connected. Found 2 components:\n",
      "[ Info: Component 1: Set([4, 2, 1])\n",
      "[ Info: Component 2: Set([3])\n",
      "[ Info: Contraction is not connected. Found 2 components:\n",
      "[ Info: Component 1: Set([4, 2, 1])\n",
      "[ Info: Component 2: Set([3])\n",
      "[ Info: Contraction is not connected. Found 2 components:\n",
      "[ Info: Component 1: Set([4, 2, 1])\n",
      "[ Info: Component 2: Set([3])\n",
      "[ Info: Contraction is not connected. Found 2 components:\n",
      "[ Info: Component 1: Set([4, 2, 1])\n",
      "[ Info: Component 2: Set([3])\n",
      "[ Info: Contraction is not connected. Found 2 components:\n",
      "[ Info: Component 1: Set([4, 2, 1])\n",
      "[ Info: Component 2: Set([3])\n",
      "[ Info: Contraction is not connected. Found 2 components:\n",
      "[ Info: Component 1: Set([4, 2, 1])\n",
      "[ Info: Component 2: Set([3])\n",
      "[ Info: Contraction is not connected. Found 2 components:\n",
      "[ Info: Component 1: Set([4, 2, 1])\n",
      "[ Info: Component 2: Set([3])\n",
      "[ Info: Contraction is not connected. Found 2 components:\n",
      "[ Info: Component 1: Set([4, 2, 1])\n",
      "[ Info: Component 2: Set([3])\n",
      "[ Info: Has zero loop\n",
      "[ Info: Has zero loop\n",
      "[ Info: Contraction is not connected. Found 2 components:\n",
      "[ Info: Component 1: Set([4])\n",
      "[ Info: Component 2: Set([2, 3, 1])\n",
      "[ Info: Contraction is not connected. Found 2 components:\n",
      "[ Info: Component 1: Set([4])\n",
      "[ Info: Component 2: Set([2, 3, 1])\n",
      "[ Info: Has zero loop\n",
      "[ Info: Has zero loop\n",
      "[ Info: Has zero loop\n",
      "[ Info: Has zero loop\n",
      "[ Info: Has zero loop\n",
      "[ Info: Has zero loop\n",
      "[ Info: Contraction is not connected. Found 2 components:\n",
      "[ Info: Component 1: Set([4])\n",
      "[ Info: Component 2: Set([2, 3, 1])\n",
      "[ Info: Contraction is not connected. Found 2 components:\n",
      "[ Info: Component 1: Set([4])\n",
      "[ Info: Component 2: Set([2, 3, 1])\n",
      "[ Info: Contraction is not connected. Found 2 components:\n",
      "[ Info: Component 1: Set([4])\n",
      "[ Info: Component 2: Set([2, 3, 1])\n",
      "[ Info: Contraction is not connected. Found 2 components:\n",
      "[ Info: Component 1: Set([4])\n",
      "[ Info: Component 2: Set([2, 3, 1])\n",
      "[ Info: Contraction is not connected. Found 2 components:\n",
      "[ Info: Component 1: Set([4])\n",
      "[ Info: Component 2: Set([2, 3, 1])\n",
      "[ Info: Contraction is not connected. Found 2 components:\n",
      "[ Info: Component 1: Set([4])\n",
      "[ Info: Component 2: Set([2, 3, 1])\n",
      "[ Info: Contraction is not connected. Found 2 components:\n",
      "[ Info: Component 1: Set([4, 2, 1])\n",
      "[ Info: Component 2: Set([3])\n",
      "[ Info: Contraction is not connected. Found 2 components:\n",
      "[ Info: Component 1: Set([4, 2, 1])\n",
      "[ Info: Component 2: Set([3])\n",
      "[ Info: Contraction is not connected. Found 2 components:\n",
      "[ Info: Component 1: Set([4, 2, 1])\n",
      "[ Info: Component 2: Set([3])\n",
      "[ Info: Contraction is not connected. Found 2 components:\n",
      "[ Info: Component 1: Set([4, 2, 1])\n",
      "[ Info: Component 2: Set([3])\n",
      "[ Info: Has zero loop\n",
      "[ Info: Has zero loop\n",
      "[ Info: Contraction is not connected. Found 2 components:\n",
      "[ Info: Component 1: Set([4, 2, 1])\n",
      "[ Info: Component 2: Set([3])\n",
      "[ Info: Contraction is not connected. Found 2 components:\n",
      "[ Info: Component 1: Set([4, 2, 1])\n",
      "[ Info: Component 2: Set([3])\n",
      "[ Info: Contraction is not connected. Found 2 components:\n",
      "[ Info: Component 1: Set([4, 2, 1])\n",
      "[ Info: Component 2: Set([3])\n",
      "[ Info: Contraction is not connected. Found 2 components:\n",
      "[ Info: Component 1: Set([4, 2, 1])\n",
      "[ Info: Component 2: Set([3])\n",
      "[ Info: Has zero loop\n",
      "[ Info: Has zero loop\n",
      "[ Info: Contraction is not connected. Found 2 components:\n",
      "[ Info: Component 1: Set([4, 2, 1])\n",
      "[ Info: Component 2: Set([3])\n",
      "[ Info: Contraction is not connected. Found 2 components:\n",
      "[ Info: Component 1: Set([4, 2, 1])\n",
      "[ Info: Component 2: Set([3])\n",
      "[ Info: Contraction is not connected. Found 2 components:\n",
      "[ Info: Component 1: Set([4, 2, 1])\n",
      "[ Info: Component 2: Set([3])\n",
      "[ Info: Contraction is not connected. Found 2 components:\n",
      "[ Info: Component 1: Set([4, 2, 1])\n",
      "[ Info: Component 2: Set([3])\n",
      "[ Info: Contraction is not connected. Found 2 components:\n",
      "[ Info: Component 1: Set([4])\n",
      "[ Info: Component 2: Set([2, 3, 1])\n",
      "[ Info: Contraction is not connected. Found 2 components:\n",
      "[ Info: Component 1: Set([4])\n",
      "[ Info: Component 2: Set([2, 3, 1])\n",
      "[ Info: Contraction is not connected. Found 2 components:\n",
      "[ Info: Component 1: Set([4])\n",
      "[ Info: Component 2: Set([2, 3, 1])\n",
      "[ Info: Contraction is not connected. Found 2 components:\n",
      "[ Info: Component 1: Set([4])\n",
      "[ Info: Component 2: Set([2, 3, 1])\n",
      "[ Info: Contraction is not connected. Found 2 components:\n",
      "[ Info: Component 1: Set([4])\n",
      "[ Info: Component 2: Set([2, 3, 1])\n",
      "[ Info: Contraction is not connected. Found 2 components:\n",
      "[ Info: Component 1: Set([4])\n",
      "[ Info: Component 2: Set([2, 3, 1])\n",
      "[ Info: Contraction is not connected. Found 2 components:\n",
      "[ Info: Component 1: Set([4])\n",
      "[ Info: Component 2: Set([2, 3, 1])\n",
      "[ Info: Contraction is not connected. Found 2 components:\n",
      "[ Info: Component 1: Set([4])\n",
      "[ Info: Component 2: Set([2, 3, 1])\n",
      "[ Info: Has zero loop\n",
      "[ Info: Has zero loop\n",
      "[ Info: Has zero loop\n",
      "[ Info: Has zero loop\n",
      "[ Info: Contraction is not connected. Found 2 components:\n",
      "[ Info: Component 1: Set([4, 2, 1])\n",
      "[ Info: Component 2: Set([3])\n",
      "[ Info: Contraction is not connected. Found 2 components:\n",
      "[ Info: Component 1: Set([4, 2, 1])\n",
      "[ Info: Component 2: Set([3])\n",
      "[ Info: Has zero loop\n",
      "[ Info: Has zero loop\n",
      "[ Info: Has zero loop\n",
      "[ Info: Has zero loop\n",
      "[ Info: Contraction is not connected. Found 2 components:\n",
      "[ Info: Component 1: Set([4, 2, 1])\n",
      "[ Info: Component 2: Set([3])\n",
      "[ Info: Contraction is not connected. Found 2 components:\n",
      "[ Info: Component 1: Set([4, 2, 1])\n",
      "[ Info: Component 2: Set([3])\n",
      "[ Info: Has zero loop\n",
      "[ Info: Has zero loop\n",
      "[ Info: Has zero loop\n",
      "[ Info: Has zero loop\n",
      "[ Info: Has zero loop\n",
      "[ Info: Has zero loop\n",
      "[ Info: Has zero loop\n",
      "[ Info: Has zero loop\n",
      "[ Info: Contraction is not connected. Found 2 components:\n",
      "[ Info: Component 1: Set([4])\n",
      "[ Info: Component 2: Set([2, 3, 1])\n",
      "[ Info: Contraction is not connected. Found 2 components:\n",
      "[ Info: Component 1: Set([4])\n",
      "[ Info: Component 2: Set([2, 3, 1])\n",
      "[ Info: Has zero loop\n",
      "[ Info: Has zero loop\n",
      "[ Info: Has zero loop\n",
      "[ Info: Has zero loop\n",
      "[ Info: Contraction is not connected. Found 2 components:\n",
      "[ Info: Component 1: Set([4])\n",
      "[ Info: Component 2: Set([2, 3, 1])\n",
      "[ Info: Contraction is not connected. Found 2 components:\n",
      "[ Info: Component 1: Set([4])\n",
      "[ Info: Component 2: Set([2, 3, 1])\n",
      "[ Info: Has zero loop\n",
      "[ Info: Has zero loop\n",
      "[ Info: Has zero loop\n",
      "[ Info: Has zero loop\n",
      "[ Info: Contraction is not connected. Found 2 components:\n",
      "[ Info: Component 1: Set([4, 2, 1])\n",
      "[ Info: Component 2: Set([3])\n",
      "[ Info: Contraction is not connected. Found 2 components:\n",
      "[ Info: Component 1: Set([4, 2, 1])\n",
      "[ Info: Component 2: Set([3])\n",
      "[ Info: Contraction is not connected. Found 2 components:\n",
      "[ Info: Component 1: Set([4, 2, 1])\n",
      "[ Info: Component 2: Set([3])\n",
      "[ Info: Contraction is not connected. Found 2 components:\n",
      "[ Info: Component 1: Set([4, 2, 1])\n",
      "[ Info: Component 2: Set([3])\n",
      "[ Info: Has zero loop\n",
      "[ Info: Has zero loop\n",
      "[ Info: Has zero loop\n",
      "[ Info: Has zero loop\n",
      "[ Info: Contraction is not connected. Found 2 components:\n",
      "[ Info: Component 1: Set([4, 2, 1])\n",
      "[ Info: Component 2: Set([3])\n",
      "[ Info: Contraction is not connected. Found 2 components:\n",
      "[ Info: Component 1: Set([4, 2, 1])\n",
      "[ Info: Component 2: Set([3])\n",
      "[ Info: Contraction is not connected. Found 2 components:\n",
      "[ Info: Component 1: Set([4, 2, 1])\n",
      "[ Info: Component 2: Set([3])\n",
      "[ Info: Contraction is not connected. Found 2 components:\n",
      "[ Info: Component 1: Set([4, 2, 1])\n",
      "[ Info: Component 2: Set([3])\n",
      "[ Info: Contraction is not connected. Found 2 components:\n",
      "[ Info: Component 1: Set([4])\n",
      "[ Info: Component 2: Set([2, 3, 1])\n",
      "[ Info: Contraction is not connected. Found 2 components:\n",
      "[ Info: Component 1: Set([4])\n",
      "[ Info: Component 2: Set([2, 3, 1])\n",
      "[ Info: Has zero loop\n",
      "[ Info: Has zero loop\n",
      "[ Info: Has zero loop\n",
      "[ Info: Has zero loop\n",
      "[ Info: Contraction is not connected. Found 2 components:\n",
      "[ Info: Component 1: Set([4])\n",
      "[ Info: Component 2: Set([2, 3, 1])\n",
      "[ Info: Contraction is not connected. Found 2 components:\n",
      "[ Info: Component 1: Set([4])\n",
      "[ Info: Component 2: Set([2, 3, 1])\n",
      "[ Info: Contraction is not connected. Found 2 components:\n",
      "[ Info: Component 1: Set([4])\n",
      "[ Info: Component 2: Set([2, 3, 1])\n",
      "[ Info: Contraction is not connected. Found 2 components:\n",
      "[ Info: Component 1: Set([4])\n",
      "[ Info: Component 2: Set([2, 3, 1])\n",
      "[ Info: Has zero loop\n",
      "[ Info: Has zero loop\n",
      "[ Info: Has zero loop\n",
      "[ Info: Has zero loop\n",
      "[ Info: Contraction is not connected. Found 2 components:\n",
      "[ Info: Component 1: Set([4])\n",
      "[ Info: Component 2: Set([2, 3, 1])\n",
      "[ Info: Contraction is not connected. Found 2 components:\n",
      "[ Info: Component 1: Set([4])\n",
      "[ Info: Component 2: Set([2, 3, 1])\n",
      "[ Info: Contraction is not connected. Found 2 components:\n",
      "[ Info: Component 1: Set([4, 2, 1])\n",
      "[ Info: Component 2: Set([3])\n",
      "[ Info: Contraction is not connected. Found 2 components:\n",
      "[ Info: Component 1: Set([4, 2, 1])\n",
      "[ Info: Component 2: Set([3])\n",
      "[ Info: Contraction is not connected. Found 2 components:\n",
      "[ Info: Component 1: Set([4, 2, 1])\n",
      "[ Info: Component 2: Set([3])\n",
      "[ Info: Contraction is not connected. Found 2 components:\n",
      "[ Info: Component 1: Set([4, 2, 1])\n",
      "[ Info: Component 2: Set([3])\n",
      "[ Info: Has zero loop\n",
      "[ Info: Has zero loop\n",
      "[ Info: Has zero loop\n",
      "[ Info: Has zero loop\n",
      "[ Info: Has zero loop\n",
      "[ Info: Has zero loop\n",
      "[ Info: Has zero loop\n",
      "[ Info: Has zero loop\n",
      "[ Info: Contraction is not connected. Found 2 components:\n",
      "[ Info: Component 1: Set([4, 2, 1])\n",
      "[ Info: Component 2: Set([3])\n",
      "[ Info: Contraction is not connected. Found 2 components:\n",
      "[ Info: Component 1: Set([4, 2, 1])\n",
      "[ Info: Component 2: Set([3])\n",
      "[ Info: Contraction is not connected. Found 2 components:\n",
      "[ Info: Component 1: Set([4, 2, 1])\n",
      "[ Info: Component 2: Set([3])\n",
      "[ Info: Contraction is not connected. Found 2 components:\n",
      "[ Info: Component 1: Set([4, 2, 1])\n",
      "[ Info: Component 2: Set([3])\n",
      "[ Info: Contraction is not connected. Found 2 components:\n",
      "[ Info: Component 1: Set([4, 2, 1])\n",
      "[ Info: Component 2: Set([3])\n",
      "[ Info: Contraction is not connected. Found 2 components:\n",
      "[ Info: Component 1: Set([4, 2, 1])\n",
      "[ Info: Component 2: Set([3])\n",
      "[ Info: Contraction is not connected. Found 2 components:\n",
      "[ Info: Component 1: Set([4, 2, 1])\n",
      "[ Info: Component 2: Set([3])\n",
      "[ Info: Contraction is not connected. Found 2 components:\n",
      "[ Info: Component 1: Set([4, 2, 1])\n",
      "[ Info: Component 2: Set([3])\n",
      "[ Info: Has zero loop\n",
      "[ Info: Has zero loop\n",
      "[ Info: Contraction is not connected. Found 2 components:\n",
      "[ Info: Component 1: Set([4])\n",
      "[ Info: Component 2: Set([2, 3, 1])\n",
      "[ Info: Contraction is not connected. Found 2 components:\n",
      "[ Info: Component 1: Set([4])\n",
      "[ Info: Component 2: Set([2, 3, 1])\n",
      "[ Info: Has zero loop\n",
      "[ Info: Has zero loop\n",
      "[ Info: Has zero loop\n",
      "[ Info: Has zero loop\n",
      "[ Info: Has zero loop\n",
      "[ Info: Has zero loop\n",
      "[ Info: Contraction is not connected. Found 2 components:\n",
      "[ Info: Component 1: Set([4])\n",
      "[ Info: Component 2: Set([2, 3, 1])\n",
      "[ Info: Contraction is not connected. Found 2 components:\n",
      "[ Info: Component 1: Set([4])\n",
      "[ Info: Component 2: Set([2, 3, 1])\n",
      "[ Info: Contraction is not connected. Found 2 components:\n",
      "[ Info: Component 1: Set([4])\n",
      "[ Info: Component 2: Set([2, 3, 1])\n",
      "[ Info: Contraction is not connected. Found 2 components:\n",
      "[ Info: Component 1: Set([4])\n",
      "[ Info: Component 2: Set([2, 3, 1])\n",
      "[ Info: Contraction is not connected. Found 2 components:\n",
      "[ Info: Component 1: Set([4])\n",
      "[ Info: Component 2: Set([2, 3, 1])\n",
      "[ Info: Contraction is not connected. Found 2 components:\n",
      "[ Info: Component 1: Set([4])\n",
      "[ Info: Component 2: Set([2, 3, 1])\n",
      "[ Info: Has zero loop\n",
      "[ Info: Has zero loop\n",
      "[ Info: Contraction is not connected. Found 2 components:\n",
      "[ Info: Component 1: Set([4, 2, 1])\n",
      "[ Info: Component 2: Set([3])\n",
      "[ Info: Contraction is not connected. Found 2 components:\n",
      "[ Info: Component 1: Set([4, 2, 1])\n",
      "[ Info: Component 2: Set([3])\n",
      "[ Info: Has zero loop\n",
      "[ Info: Has zero loop\n",
      "[ Info: Contraction is not connected. Found 2 components:\n",
      "[ Info: Component 1: Set([4, 2, 1])\n",
      "[ Info: Component 2: Set([3])\n",
      "[ Info: Contraction is not connected. Found 2 components:\n",
      "[ Info: Component 1: Set([4, 2, 1])\n",
      "[ Info: Component 2: Set([3])\n",
      "[ Info: Contraction is not connected. Found 2 components:\n",
      "[ Info: Component 1: Set([4])\n",
      "[ Info: Component 2: Set([2, 3, 1])\n",
      "[ Info: Contraction is not connected. Found 2 components:\n",
      "[ Info: Component 1: Set([4])\n",
      "[ Info: Component 2: Set([2, 3, 1])\n",
      "[ Info: Contraction is not connected. Found 2 components:\n",
      "[ Info: Component 1: Set([4])\n",
      "[ Info: Component 2: Set([2, 3, 1])\n",
      "[ Info: Contraction is not connected. Found 2 components:\n",
      "[ Info: Component 1: Set([4])\n",
      "[ Info: Component 2: Set([2, 3, 1])\n",
      "[ Info: Contraction is not connected. Found 2 components:\n",
      "[ Info: Component 1: Set([4])\n",
      "[ Info: Component 2: Set([2, 3, 1])\n",
      "[ Info: Contraction is not connected. Found 2 components:\n",
      "[ Info: Component 1: Set([4])\n",
      "[ Info: Component 2: Set([2, 3, 1])\n",
      "[ Info: Contraction is not connected. Found 2 components:\n",
      "[ Info: Component 1: Set([4])\n",
      "[ Info: Component 2: Set([2, 3, 1])\n",
      "[ Info: Contraction is not connected. Found 2 components:\n",
      "[ Info: Component 1: Set([4])\n",
      "[ Info: Component 2: Set([2, 3, 1])\n",
      "[ Info: Has zero loop\n",
      "[ Info: Has zero loop\n",
      "[ Info: Has zero loop\n",
      "[ Info: Has zero loop\n",
      "[ Info: Has zero loop\n",
      "[ Info: Has zero loop\n",
      "[ Info: Has zero loop\n",
      "[ Info: Has zero loop\n",
      "[ Info: Has zero loop\n",
      "[ Info: Has zero loop\n",
      "[ Info: Contraction is not connected. Found 2 components:\n",
      "[ Info: Component 1: Set([4, 2, 1])\n",
      "[ Info: Component 2: Set([3])\n",
      "[ Info: Contraction is not connected. Found 2 components:\n",
      "[ Info: Component 1: Set([4, 2, 1])\n",
      "[ Info: Component 2: Set([3])\n",
      "[ Info: Has zero loop\n",
      "[ Info: Has zero loop\n",
      "[ Info: Has zero loop\n",
      "[ Info: Has zero loop\n",
      "[ Info: Contraction is not connected. Found 2 components:\n",
      "[ Info: Component 1: Set([4, 2, 1])\n",
      "[ Info: Component 2: Set([3])\n",
      "[ Info: Contraction is not connected. Found 2 components:\n",
      "[ Info: Component 1: Set([4, 2, 1])\n",
      "[ Info: Component 2: Set([3])\n",
      "[ Info: Has zero loop\n",
      "[ Info: Has zero loop\n",
      "[ Info: Has zero loop\n",
      "[ Info: Has zero loop\n",
      "[ Info: Contraction is not connected. Found 2 components:\n",
      "[ Info: Component 1: Set([4])\n",
      "[ Info: Component 2: Set([2, 3, 1])\n",
      "[ Info: Contraction is not connected. Found 2 components:\n",
      "[ Info: Component 1: Set([4])\n",
      "[ Info: Component 2: Set([2, 3, 1])\n",
      "[ Info: Has zero loop\n",
      "[ Info: Has zero loop\n",
      "[ Info: Has zero loop\n",
      "[ Info: Has zero loop\n",
      "[ Info: Contraction is not connected. Found 2 components:\n",
      "[ Info: Component 1: Set([4])\n",
      "[ Info: Component 2: Set([2, 3, 1])\n",
      "[ Info: Contraction is not connected. Found 2 components:\n",
      "[ Info: Component 1: Set([4])\n",
      "[ Info: Component 2: Set([2, 3, 1])\n",
      "[ Info: Has zero loop\n",
      "[ Info: Has zero loop\n",
      "[ Info: Has zero loop\n",
      "[ Info: Has zero loop\n",
      "[ Info: Has zero loop\n",
      "[ Info: Has zero loop\n",
      "[ Info: Has zero loop\n",
      "[ Info: Has zero loop\n",
      "[ Info: Contraction is not connected. Found 2 components:\n",
      "[ Info: Component 1: Set([4, 2, 1])\n",
      "[ Info: Component 2: Set([3])\n",
      "[ Info: Contraction is not connected. Found 2 components:\n",
      "[ Info: Component 1: Set([4, 2, 1])\n",
      "[ Info: Component 2: Set([3])\n",
      "[ Info: Contraction is not connected. Found 2 components:\n",
      "[ Info: Component 1: Set([4, 2, 1])\n",
      "[ Info: Component 2: Set([3])\n",
      "[ Info: Contraction is not connected. Found 2 components:\n",
      "[ Info: Component 1: Set([4, 2, 1])\n",
      "[ Info: Component 2: Set([3])\n",
      "[ Info: Has zero loop\n",
      "[ Info: Has zero loop\n",
      "[ Info: Contraction is not connected. Found 2 components:\n",
      "[ Info: Component 1: Set([4])\n",
      "[ Info: Component 2: Set([2, 3, 1])\n",
      "[ Info: Contraction is not connected. Found 2 components:\n",
      "[ Info: Component 1: Set([4])\n",
      "[ Info: Component 2: Set([2, 3, 1])\n",
      "[ Info: Has zero loop\n",
      "[ Info: Has zero loop\n",
      "[ Info: Has zero loop\n",
      "[ Info: Has zero loop\n",
      "[ Info: Has zero loop\n",
      "[ Info: Has zero loop\n",
      "[ Info: Contraction is not connected. Found 2 components:\n",
      "[ Info: Component 1: Set([4])\n",
      "[ Info: Component 2: Set([2, 3, 1])\n",
      "[ Info: Contraction is not connected. Found 2 components:\n",
      "[ Info: Component 1: Set([4])\n",
      "[ Info: Component 2: Set([2, 3, 1])\n",
      "[ Info: Has zero loop\n",
      "[ Info: Has zero loop\n",
      "[ Info: Contraction is not connected. Found 2 components:\n",
      "[ Info: Component 1: Set([4, 2, 1])\n",
      "[ Info: Component 2: Set([3])\n",
      "[ Info: Contraction is not connected. Found 2 components:\n",
      "[ Info: Component 1: Set([4, 2, 1])\n",
      "[ Info: Component 2: Set([3])\n",
      "[ Info: Contraction is not connected. Found 2 components:\n",
      "[ Info: Component 1: Set([4, 2, 1])\n",
      "[ Info: Component 2: Set([3])\n",
      "[ Info: Contraction is not connected. Found 2 components:\n",
      "[ Info: Component 1: Set([4, 2, 1])\n",
      "[ Info: Component 2: Set([3])\n",
      "[ Info: Has zero loop\n",
      "[ Info: Has zero loop\n",
      "[ Info: Contraction is not connected. Found 2 components:\n",
      "[ Info: Component 1: Set([4, 2, 1])\n",
      "[ Info: Component 2: Set([3])\n",
      "[ Info: Contraction is not connected. Found 2 components:\n",
      "[ Info: Component 1: Set([4, 2, 1])\n",
      "[ Info: Component 2: Set([3])\n",
      "[ Info: Contraction is not connected. Found 2 components:\n",
      "[ Info: Component 1: Set([4, 2, 1])\n",
      "[ Info: Component 2: Set([3])\n",
      "[ Info: Contraction is not connected. Found 2 components:\n",
      "[ Info: Component 1: Set([4, 2, 1])\n",
      "[ Info: Component 2: Set([3])\n",
      "[ Info: Contraction is not connected. Found 2 components:\n",
      "[ Info: Component 1: Set([4])\n",
      "[ Info: Component 2: Set([2, 3, 1])\n",
      "[ Info: Contraction is not connected. Found 2 components:\n",
      "[ Info: Component 1: Set([4])\n",
      "[ Info: Component 2: Set([2, 3, 1])\n",
      "[ Info: Contraction is not connected. Found 2 components:\n",
      "[ Info: Component 1: Set([4])\n",
      "[ Info: Component 2: Set([2, 3, 1])\n",
      "[ Info: Contraction is not connected. Found 2 components:\n",
      "[ Info: Component 1: Set([4])\n",
      "[ Info: Component 2: Set([2, 3, 1])\n",
      "[ Info: Has zero loop\n",
      "[ Info: Has zero loop\n",
      "[ Info: Has zero loop\n",
      "[ Info: Has zero loop\n",
      "[ Info: Has zero loop\n",
      "[ Info: Has zero loop\n",
      "[ Info: Has zero loop\n",
      "[ Info: Has zero loop\n",
      "[ Info: Has zero loop\n",
      "[ Info: Has zero loop\n",
      "[ Info: Contraction is not connected. Found 2 components:\n",
      "[ Info: Component 1: Set([4, 2, 1])\n",
      "[ Info: Component 2: Set([3])\n",
      "[ Info: Contraction is not connected. Found 2 components:\n",
      "[ Info: Component 1: Set([4, 2, 1])\n",
      "[ Info: Component 2: Set([3])\n",
      "[ Info: Contraction is not connected. Found 2 components:\n",
      "[ Info: Component 1: Set([4, 2, 1])\n",
      "[ Info: Component 2: Set([3])\n",
      "[ Info: Contraction is not connected. Found 2 components:\n",
      "[ Info: Component 1: Set([4, 2, 1])\n",
      "[ Info: Component 2: Set([3])\n",
      "[ Info: Has zero loop\n",
      "[ Info: Has zero loop\n",
      "[ Info: Has zero loop\n",
      "[ Info: Has zero loop\n",
      "[ Info: Contraction is not connected. Found 2 components:\n",
      "[ Info: Component 1: Set([4, 2, 1])\n",
      "[ Info: Component 2: Set([3])\n",
      "[ Info: Contraction is not connected. Found 2 components:\n",
      "[ Info: Component 1: Set([4, 2, 1])\n",
      "[ Info: Component 2: Set([3])\n",
      "[ Info: Contraction is not connected. Found 2 components:\n",
      "[ Info: Component 1: Set([4, 2, 1])\n",
      "[ Info: Component 2: Set([3])\n",
      "[ Info: Contraction is not connected. Found 2 components:\n",
      "[ Info: Component 1: Set([4, 2, 1])\n",
      "[ Info: Component 2: Set([3])\n",
      "[ Info: Contraction is not connected. Found 2 components:\n",
      "[ Info: Component 1: Set([4])\n",
      "[ Info: Component 2: Set([2, 3, 1])\n",
      "[ Info: Contraction is not connected. Found 2 components:\n",
      "[ Info: Component 1: Set([4])\n",
      "[ Info: Component 2: Set([2, 3, 1])\n",
      "[ Info: Has zero loop\n",
      "[ Info: Has zero loop\n",
      "[ Info: Has zero loop\n",
      "[ Info: Has zero loop\n",
      "[ Info: Contraction is not connected. Found 2 components:\n",
      "[ Info: Component 1: Set([4])\n",
      "[ Info: Component 2: Set([2, 3, 1])\n",
      "[ Info: Contraction is not connected. Found 2 components:\n",
      "[ Info: Component 1: Set([4])\n",
      "[ Info: Component 2: Set([2, 3, 1])\n",
      "[ Info: Contraction is not connected. Found 2 components:\n",
      "[ Info: Component 1: Set([4])\n",
      "[ Info: Component 2: Set([2, 3, 1])\n",
      "[ Info: Contraction is not connected. Found 2 components:\n",
      "[ Info: Component 1: Set([4])\n",
      "[ Info: Component 2: Set([2, 3, 1])\n",
      "[ Info: Has zero loop\n",
      "[ Info: Has zero loop\n",
      "[ Info: Has zero loop\n",
      "[ Info: Has zero loop\n",
      "[ Info: Contraction is not connected. Found 2 components:\n",
      "[ Info: Component 1: Set([4])\n",
      "[ Info: Component 2: Set([2, 3, 1])\n",
      "[ Info: Contraction is not connected. Found 2 components:\n",
      "[ Info: Component 1: Set([4])\n",
      "[ Info: Component 2: Set([2, 3, 1])\n"
     ]
    },
    {
     "output_type": "execute_result",
     "data": {
      "text/plain": "Dressed Propagator:\nkeldysh:  -1.0*Gᴷ(x₁,y₁)*Gᴷ(y₁,y₂)*Gᴬ(y₁,y₂)*Gᴷ(y₂,y₁)*Gᴬ(y₂,x₂) + -0.5*Gᴿ(x₁,y₁)*Gᴷ(y₁,y₂)*Gᴷ(y₁,y₂)*Gᴬ(y₂,y₁)*Gᴷ(y₂,x₂) + -1.0*Gᴿ(x₁,y₁)*Gᴷ(y₁,y₁)*Gᴷ(y₁,y₂)*Gᴷ(y₂,y₂)*Gᴬ(y₂,x₂) + -0.5*Gᴷ(x₁,y₁)*Gᴬ(y₁,y₂)*Gᴬ(y₁,y₂)*Gᴿ(y₂,y₁)*Gᴬ(y₂,x₂) + -1.0*Gᴿ(x₁,y₁)*Gᴷ(y₁,y₁)*Gᴿ(y₁,y₂)*Gᴷ(y₂,y₂)*Gᴷ(y₂,x₂) + -1.0*Gᴿ(x₁,y₁)*Gᴿ(y₁,y₂)*Gᴷ(y₂,y₁)*Gᴷ(y₂,y₂)*Gᴷ(y₁,x₂) + -0.5*Gᴷ(x₁,y₁)*Gᴷ(y₁,y₂)*Gᴷ(y₁,y₂)*Gᴿ(y₂,y₁)*Gᴬ(y₂,x₂) + -1.0*Gᴿ(x₁,y₁)*Gᴷ(y₁,y₂)*Gᴬ(y₂,y₁)*Gᴷ(y₂,y₂)*Gᴷ(y₁,x₂) + -0.5*Gᴿ(x₁,y₁)*Gᴿ(y₁,y₂)*Gᴿ(y₁,y₂)*Gᴬ(y₂,y₁)*Gᴷ(y₂,x₂) + -0.5*Gᴿ(x₁,y₁)*Gᴬ(y₁,y₂)*Gᴬ(y₁,y₂)*Gᴷ(y₂,y₁)*Gᴬ(y₂,x₂) + -1.0*Gᴷ(x₁,y₁)*Gᴷ(y₁,y₁)*Gᴬ(y₁,y₂)*Gᴷ(y₂,y₂)*Gᴬ(y₂,x₂) + -1.0*Gᴷ(x₁,y₁)*Gᴷ(y₁,y₂)*Gᴬ(y₂,y₁)*Gᴷ(y₂,y₂)*Gᴬ(y₁,x₂) + -1.0*Gᴿ(x₁,y₁)*Gᴷ(y₁,y₂)*Gᴿ(y₁,y₂)*Gᴷ(y₂,y₁)*Gᴷ(y₂,x₂) + -0.5*Gᴿ(x₁,y₁)*Gᴿ(y₁,y₂)*Gᴿ(y₁,y₂)*Gᴷ(y₂,y₁)*Gᴬ(y₂,x₂) + -1.0*Gᴿ(x₁,y₁)*Gᴷ(y₁,y₂)*Gᴿ(y₁,y₂)*Gᴬ(y₂,y₁)*Gᴬ(y₂,x₂) + -1.0*Gᴷ(x₁,y₁)*Gᴿ(y₁,y₂)*Gᴷ(y₂,y₁)*Gᴷ(y₂,y₂)*Gᴬ(y₁,x₂) + -1.0*Gᴿ(x₁,y₁)*Gᴷ(y₁,y₂)*Gᴬ(y₁,y₂)*Gᴿ(y₂,y₁)*Gᴬ(y₂,x₂) + -0.5*Gᴿ(x₁,y₁)*Gᴷ(y₁,y₂)*Gᴷ(y₁,y₂)*Gᴷ(y₂,y₁)*Gᴬ(y₂,x₂)\nretarded: -1.0*Gᴿ(x₁,y₁)*Gᴷ(y₁,y₂)*Gᴿ(y₁,y₂)*Gᴷ(y₂,y₁)*Gᴿ(y₂,x₂) + -1.0*Gᴿ(x₁,y₁)*Gᴿ(y₁,y₂)*Gᴷ(y₂,y₁)*Gᴷ(y₂,y₂)*Gᴿ(y₁,x₂) + -1.0*Gᴿ(x₁,y₁)*Gᴷ(y₁,y₁)*Gᴿ(y₁,y₂)*Gᴷ(y₂,y₂)*Gᴿ(y₂,x₂) + -1.0*Gᴿ(x₁,y₁)*Gᴷ(y₁,y₂)*Gᴬ(y₂,y₁)*Gᴷ(y₂,y₂)*Gᴿ(y₁,x₂) + -0.5*Gᴿ(x₁,y₁)*Gᴿ(y₁,y₂)*Gᴿ(y₁,y₂)*Gᴬ(y₂,y₁)*Gᴿ(y₂,x₂) + -0.5*Gᴿ(x₁,y₁)*Gᴷ(y₁,y₂)*Gᴷ(y₁,y₂)*Gᴬ(y₂,y₁)*Gᴿ(y₂,x₂)\nadvanced: -1.0*Gᴬ(x₁,y₁)*Gᴿ(y₁,y₂)*Gᴷ(y₂,y₁)*Gᴷ(y₂,y₂)*Gᴬ(y₁,x₂) + -1.0*Gᴬ(x₁,y₁)*Gᴷ(y₁,y₁)*Gᴬ(y₁,y₂)*Gᴷ(y₂,y₂)*Gᴬ(y₂,x₂) + -1.0*Gᴬ(x₁,y₁)*Gᴷ(y₁,y₂)*Gᴬ(y₁,y₂)*Gᴷ(y₂,y₁)*Gᴬ(y₂,x₂) + -1.0*Gᴬ(x₁,y₁)*Gᴷ(y₁,y₂)*Gᴬ(y₂,y₁)*Gᴷ(y₂,y₂)*Gᴬ(y₁,x₂) + -0.5*Gᴬ(x₁,y₁)*Gᴷ(y₁,y₂)*Gᴷ(y₁,y₂)*Gᴿ(y₂,y₁)*Gᴬ(y₂,x₂) + -0.5*Gᴬ(x₁,y₁)*Gᴬ(y₁,y₂)*Gᴬ(y₁,y₂)*Gᴿ(y₂,y₁)*Gᴬ(y₂,x₂)"
     },
     "metadata": {},
     "execution_count": 7
    }
   ],
   "cell_type": "code",
   "source": [
    "GF = DressedPropagator(L_int; order=2)"
   ],
   "metadata": {},
   "execution_count": 7
  },
  {
   "cell_type": "markdown",
   "source": [
    "However, not all of them contribute to the second order self-energy. Indeed, many terms\n",
    "(diagrams) involve only first order self-energy corrections and are thus reducible.\n",
    "Instead, we need to separate the reducible and irreducible diagrams. We can separate them\n",
    "by looking at the multiplicity of the edges in the diagrams."
   ],
   "metadata": {}
  },
  {
   "outputs": [
    {
     "output_type": "execute_result",
     "data": {
      "text/plain": "Dict{SmallCollections.MutableSmallVector{1, Int64}, Vector{KeldyshContraction.Diagram{5, StaticArraysCore.SVector{5, KeldyshContraction.Edge}}}} with 3 entries:\n  [3] => [Gᴷ(x₁,y₁)*Gᴷ(y₁,y₂)*Gᴬ(y₁,y₂)*Gᴷ(y₂,y₁)*Gᴬ(y₂,x₂), Gᴿ(x₁,y₁)*Gᴷ(y₁,y₂…\n  [1] => [Gᴿ(x₁,y₁)*Gᴷ(y₁,y₁)*Gᴷ(y₁,y₂)*Gᴷ(y₂,y₂)*Gᴬ(y₂,x₂), Gᴿ(x₁,y₁)*Gᴷ(y₁,y₁…\n  [2] => [Gᴿ(x₁,y₁)*Gᴿ(y₁,y₂)*Gᴷ(y₂,y₁)*Gᴷ(y₂,y₂)*Gᴷ(y₁,x₂), Gᴿ(x₁,y₁)*Gᴷ(y₁,y₂…"
     },
     "metadata": {},
     "execution_count": 8
    }
   ],
   "cell_type": "code",
   "source": [
    "topology_dict = topologies(GF.keldysh)"
   ],
   "metadata": {},
   "execution_count": 8
  },
  {
   "cell_type": "markdown",
   "source": [
    "This gives us three distinct topologies, which we can identify by the multiplicity of the edges."
   ],
   "metadata": {}
  },
  {
   "outputs": [
    {
     "output_type": "execute_result",
     "data": {
      "text/plain": "4-element Vector{KeldyshContraction.Diagram{5, StaticArraysCore.SVector{5, KeldyshContraction.Edge}}}:\n Gᴿ(x₁,y₁)*Gᴿ(y₁,y₂)*Gᴷ(y₂,y₁)*Gᴷ(y₂,y₂)*Gᴷ(y₁,x₂)\n Gᴿ(x₁,y₁)*Gᴷ(y₁,y₂)*Gᴬ(y₂,y₁)*Gᴷ(y₂,y₂)*Gᴷ(y₁,x₂)\n Gᴷ(x₁,y₁)*Gᴷ(y₁,y₂)*Gᴬ(y₂,y₁)*Gᴷ(y₂,y₂)*Gᴬ(y₁,x₂)\n Gᴷ(x₁,y₁)*Gᴿ(y₁,y₂)*Gᴷ(y₂,y₁)*Gᴷ(y₂,y₂)*Gᴬ(y₁,x₂)"
     },
     "metadata": {},
     "execution_count": 9
    }
   ],
   "cell_type": "code",
   "source": [
    "topology_dict[[2]]"
   ],
   "metadata": {},
   "execution_count": 9
  },
  {
   "cell_type": "markdown",
   "source": [
    "The topology involving only one edge is the reducible diagram, which will not contribute to the self-energy in second order. Indeed, internally we only consider the irreducible diagrams."
   ],
   "metadata": {}
  },
  {
   "outputs": [
    {
     "output_type": "execute_result",
     "data": {
      "text/plain": "Self Energy:\nkeldysh:  -0.5*Gᴿ(y₁,y₂)*Gᴿ(y₁,y₂)*Gᴷ(y₂,y₁) + -1.0*Gᴷ(y₁,y₂)*Gᴬ(y₁,y₂)*Gᴿ(y₂,y₁) + -1.0*Gᴷ(y₁,y₂)*Gᴿ(y₁,y₂)*Gᴬ(y₂,y₁) + -0.5*Gᴷ(y₁,y₂)*Gᴷ(y₁,y₂)*Gᴷ(y₂,y₁) + -0.5*Gᴬ(y₁,y₂)*Gᴬ(y₁,y₂)*Gᴷ(y₂,y₁)\nretarded: -1.0*Gᴷ(y₁,y₂)*Gᴿ(y₁,y₂)*Gᴷ(y₂,y₁) + -1.0*Gᴷ(y₁,y₂)*Gᴬ(y₂,y₁)*Gᴷ(y₂,y₂) + -1.0*Gᴿ(y₁,y₂)*Gᴷ(y₂,y₁)*Gᴷ(y₂,y₂) + -0.5*Gᴿ(y₁,y₂)*Gᴿ(y₁,y₂)*Gᴬ(y₂,y₁) + -0.5*Gᴷ(y₁,y₂)*Gᴷ(y₁,y₂)*Gᴬ(y₂,y₁)\nadvanced: -1.0*Gᴷ(y₁,y₂)*Gᴬ(y₁,y₂)*Gᴷ(y₂,y₁) + -1.0*Gᴷ(y₁,y₂)*Gᴬ(y₂,y₁)*Gᴷ(y₂,y₂) + -1.0*Gᴿ(y₁,y₂)*Gᴷ(y₂,y₁)*Gᴷ(y₂,y₂) + -0.5*Gᴬ(y₁,y₂)*Gᴬ(y₁,y₂)*Gᴿ(y₂,y₁) + -0.5*Gᴷ(y₁,y₂)*Gᴷ(y₁,y₂)*Gᴿ(y₂,y₁)"
     },
     "metadata": {},
     "execution_count": 10
    }
   ],
   "cell_type": "code",
   "source": [
    "Σ = SelfEnergy(GF; order=2)"
   ],
   "metadata": {},
   "execution_count": 10
  },
  {
   "cell_type": "markdown",
   "source": [
    "---\n",
    "\n",
    "*This notebook was generated using [Literate.jl](https://github.com/fredrikekre/Literate.jl).*"
   ],
   "metadata": {}
  }
 ],
 "nbformat_minor": 3,
 "metadata": {
  "language_info": {
   "file_extension": ".jl",
   "mimetype": "application/julia",
   "name": "julia",
   "version": "1.10.9"
  },
  "kernelspec": {
   "name": "julia-1.10",
   "display_name": "Julia 1.10.9",
   "language": "julia"
  }
 },
 "nbformat": 4
}
