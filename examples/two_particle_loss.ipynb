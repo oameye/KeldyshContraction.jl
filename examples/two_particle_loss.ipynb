{
 "cells": [
  {
   "cell_type": "markdown",
   "source": [
    "## Two Body Loss"
   ],
   "metadata": {}
  },
  {
   "outputs": [
    {
     "output_type": "execute_result",
     "data": {
      "text/plain": "Self Energy:\nkeldysh:  -0.5*Gᴬ(y₁,y₂)*Gᴬ(y₁,y₂)*Gᴷ(y₂,y₁) + -1.0*Gᴿ(y₁,y₂)*Gᴬ(y₂,y₁)*Gᴿ(y₂,y₂) + Gᴿ(y₁,y₂)*Gᴬ(y₂,y₁)*Gᴷ(y₂,y₂) + Gᴿ(y₁,y₂)*Gᴷ(y₂,y₁)*Gᴷ(y₂,y₂) + -0.5*Gᴷ(y₁,y₂)*Gᴷ(y₁,y₂)*Gᴷ(y₂,y₁) + -1.0*Gᴿ(y₁,y₂)*Gᴷ(y₂,y₁)*Gᴿ(y₂,y₂) + -1.0*Gᴷ(y₁,y₂)*Gᴬ(y₁,y₂)*Gᴷ(y₂,y₁)\nretarded: \nadvanced: -0.5*Gᴬ(y₁,y₂)*Gᴬ(y₁,y₂)*Gᴿ(y₂,y₁) + -1.0*Gᴷ(y₁,y₂)*Gᴬ(y₁,y₂)*Gᴿ(y₂,y₁) + Gᴿ(y₁,y₂)*Gᴬ(y₂,y₁)*Gᴿ(y₂,y₂) + -1.0*Gᴿ(y₁,y₂)*Gᴬ(y₂,y₁)*Gᴷ(y₂,y₂) + -1.0*Gᴿ(y₁,y₂)*Gᴷ(y₂,y₁)*Gᴷ(y₂,y₂) + Gᴿ(y₁,y₂)*Gᴷ(y₂,y₁)*Gᴿ(y₂,y₂) + -0.5*Gᴷ(y₁,y₂)*Gᴷ(y₁,y₂)*Gᴿ(y₂,y₁)"
     },
     "metadata": {},
     "execution_count": 1
    }
   ],
   "cell_type": "code",
   "source": [
    "using KeldyshContraction\n",
    "using KeldyshContraction: Classical, Quantum, Plus, Minus\n",
    "\n",
    "@qfields ϕ::Destroy(Classical) ψ::Destroy(Quantum)\n",
    "@syms Γ::Real\n",
    "\n",
    "loss2boson = im*(\n",
    "    0.5 * ϕ' * ψ' * (ϕ(Minus) * ϕ(Minus) + ψ(Minus) * ψ(Minus)) -\n",
    "    0.5 * ϕ(Plus) * ψ(Plus) * (ϕ' * ϕ' + ψ' * ψ') +\n",
    "    ϕ' * ψ' * (ϕ(Plus) * ψ(Plus) + ϕ(Minus) * ψ(Minus))\n",
    ")\n",
    "L_int = InteractionLagrangian(loss2boson)\n",
    "\n",
    "GF = DressedPropagator(L_int)\n",
    "\n",
    "Σ = SelfEnergy(GF)\n",
    "\n",
    "GF = DressedPropagator(L_int; order = 2)\n",
    "\n",
    "Σ = SelfEnergy(GF; order = 2)"
   ],
   "metadata": {},
   "execution_count": 1
  },
  {
   "cell_type": "markdown",
   "source": [
    "---\n",
    "\n",
    "*This notebook was generated using [Literate.jl](https://github.com/fredrikekre/Literate.jl).*"
   ],
   "metadata": {}
  }
 ],
 "nbformat_minor": 3,
 "metadata": {
  "language_info": {
   "file_extension": ".jl",
   "mimetype": "application/julia",
   "name": "julia",
   "version": "1.10.9"
  },
  "kernelspec": {
   "name": "julia-1.10",
   "display_name": "Julia 1.10.9",
   "language": "julia"
  }
 },
 "nbformat": 4
}
