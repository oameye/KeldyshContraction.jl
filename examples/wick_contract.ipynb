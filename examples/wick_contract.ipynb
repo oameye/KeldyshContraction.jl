{
 "cells": [
  {
   "cell_type": "code",
   "execution_count": 1,
   "id": "d404029e",
   "metadata": {},
   "outputs": [
    {
     "name": "stderr",
     "output_type": "stream",
     "text": [
      "\u001b[32m\u001b[1m  Activating\u001b[22m\u001b[39m project at `c:\\Users\\User\\Documents\\GitHub\\Lossy-Transport-and-Breathing-Modes`\n"
     ]
    }
   ],
   "source": [
    "using DrWatson\n",
    "@quickactivate \"LossyTransport\""
   ]
  },
  {
   "cell_type": "code",
   "execution_count": 2,
   "id": "389bd77c",
   "metadata": {},
   "outputs": [
    {
     "name": "stderr",
     "output_type": "stream",
     "text": [
      "\u001b[36m\u001b[1m[ \u001b[22m\u001b[39m\u001b[36m\u001b[1mInfo: \u001b[22m\u001b[39mPrecompiling LossyTransport [59029960-0225-41d6-bd95-7dc9967fcf7b] (cache misses: include_dependency fsize change (2), incompatible header (6), mismatched flags (8), include_dependency fhash change (2))\n"
     ]
    },
    {
     "data": {
      "text/plain": [
       "LossyTransport"
      ]
     },
     "execution_count": 2,
     "metadata": {},
     "output_type": "execute_result"
    }
   ],
   "source": [
    "using LossyTransport\n",
    "using LossyTransport: Classical, Quantum, Plus, Minus\n",
    "using LossyTransport: physical, conserved, remove_qq_contraction\n",
    "LT = LossyTransport"
   ]
  },
  {
   "cell_type": "code",
   "execution_count": 3,
   "id": "849c6d3c",
   "metadata": {},
   "outputs": [
    {
     "data": {
      "text/latex": [
       "$0.5 \\phi \\phi^{-} \\phi^{-} \\bar{\\phi} \\bar{\\psi} \\bar{\\phi} + 0.5 \\phi \\psi^{-} \\psi^{-} \\bar{\\phi} \\bar{\\psi} \\bar{\\phi} -0.5 \\phi \\phi^{-} \\psi^{-} \\bar{\\phi} \\bar{\\phi} \\bar{\\phi} -0.5 \\phi \\phi^{-} \\psi^{-} \\bar{\\psi} \\bar{\\psi} \\bar{\\phi} + \\phi \\phi^+ \\psi^+ \\bar{\\phi} \\bar{\\psi} \\bar{\\phi} + \\phi \\phi^{-} \\psi^{-} \\bar{\\phi} \\bar{\\psi} \\bar{\\phi}$"
      ],
      "text/plain": [
       "(0.5*(ϕ*ϕ⁻*ϕ⁻*̄ϕ*̄ψ*̄ϕ)+0.5*(ϕ*ψ⁻*ψ⁻*̄ϕ*̄ψ*̄ϕ)+-0.5*(ϕ*ϕ⁻*ψ⁻*̄ϕ*̄ϕ*̄ϕ)+-0.5*(ϕ*ϕ⁻*ψ⁻*̄ψ*̄ψ*̄ϕ)+(ϕ*ϕ⁺*ψ⁺*̄ϕ*̄ψ*̄ϕ)+(ϕ*ϕ⁻*ψ⁻*̄ϕ*̄ψ*̄ϕ))"
      ]
     },
     "execution_count": 3,
     "metadata": {},
     "output_type": "execute_result"
    }
   ],
   "source": [
    "@qfields ϕ::Destroy(Classical) ψ::Destroy(Quantum)\n",
    "\n",
    "L_int =\n",
    "    0.5 * ϕ' * ψ' * (ϕ(Minus) * ϕ(Minus) + ψ(Minus) * ψ(Minus)) -\n",
    "    0.5 * ϕ(Minus) * ψ(Minus) * (ϕ' * ϕ' + ψ' * ψ') +\n",
    "    ϕ' * ψ' * (ϕ(Plus) * ψ(Plus) + ϕ(Minus) * ψ(Minus))\n",
    "\n",
    "expr = ϕ(LT.Out) * ϕ'(LT.In) * L_int"
   ]
  },
  {
   "cell_type": "code",
   "execution_count": 4,
   "id": "bad2e6c4",
   "metadata": {},
   "outputs": [
    {
     "data": {
      "text/latex": [
       "$\\phi$"
      ],
      "text/plain": [
       "L\"$\\phi$\""
      ]
     },
     "execution_count": 4,
     "metadata": {},
     "output_type": "execute_result"
    }
   ],
   "source": [
    "ex = LossyTransport._to_expression(ϕ)\n",
    "ex =LossyTransport.MacroTools.postwalk(LossyTransport._postwalk_func, ex)\n",
    "LossyTransport.latexstring(ex) \n",
    "LossyTransport.latexify(ϕ)"
   ]
  },
  {
   "cell_type": "code",
   "execution_count": 5,
   "id": "1f510d6d",
   "metadata": {},
   "outputs": [
    {
     "data": {
      "text/plain": [
       "true"
      ]
     },
     "execution_count": 5,
     "metadata": {},
     "output_type": "execute_result"
    }
   ],
   "source": [
    "conserved(expr)"
   ]
  },
  {
   "cell_type": "code",
   "execution_count": 6,
   "id": "e221f889",
   "metadata": {},
   "outputs": [
    {
     "data": {
      "text/plain": [
       "true"
      ]
     },
     "execution_count": 6,
     "metadata": {},
     "output_type": "execute_result"
    }
   ],
   "source": [
    "physical(expr)"
   ]
  },
  {
   "cell_type": "code",
   "execution_count": 7,
   "id": "84707f75",
   "metadata": {},
   "outputs": [
    {
     "data": {
      "text/plain": [
       "4-element Vector{Vector{Vector{LossyTransport.QField}}}:\n",
       " [[ϕ, ̄ϕ], [ϕ⁻, ̄ψ], [ϕ⁻, ̄ϕ]]\n",
       " [[ϕ, ̄ϕ], [ϕ⁻, ̄ϕ], [ϕ⁻, ̄ψ]]\n",
       " [[ϕ, ̄ψ], [ϕ⁻, ̄ϕ], [ϕ⁻, ̄ϕ]]\n",
       " [[ϕ, ̄ψ], [ϕ⁻, ̄ϕ], [ϕ⁻, ̄ϕ]]"
      ]
     },
     "execution_count": 7,
     "metadata": {},
     "output_type": "execute_result"
    }
   ],
   "source": [
    "to_wick = expr.arguments[1].args_nc\n",
    "wick_contractions = wick_contraction(to_wick)"
   ]
  },
  {
   "cell_type": "code",
   "execution_count": 8,
   "id": "cbdb7034",
   "metadata": {},
   "outputs": [
    {
     "data": {
      "text/plain": [
       "4-element Vector{Vector{Vector{LossyTransport.QField}}}:\n",
       " [[ϕ, ̄ϕ], [ϕ⁻, ̄ψ], [ϕ⁻, ̄ϕ]]\n",
       " [[ϕ, ̄ϕ], [ϕ⁻, ̄ϕ], [ϕ⁻, ̄ψ]]\n",
       " [[ϕ, ̄ψ], [ϕ⁻, ̄ϕ], [ϕ⁻, ̄ϕ]]\n",
       " [[ϕ, ̄ψ], [ϕ⁻, ̄ϕ], [ϕ⁻, ̄ϕ]]"
      ]
     },
     "execution_count": 8,
     "metadata": {},
     "output_type": "execute_result"
    }
   ],
   "source": [
    "remove_qq_contraction(wick_contractions)"
   ]
  },
  {
   "cell_type": "code",
   "execution_count": null,
   "id": "5c58bddc",
   "metadata": {},
   "outputs": [
    {
     "data": {
      "text/plain": [
       "2-element Vector{Vector{Vector{LossyTransport.QField}}}:\n",
       " [[ϕ, ̄ψ], [ϕ⁻, ̄ϕ], [ϕ⁻, ̄ϕ]]\n",
       " [[ϕ, ̄ψ], [ϕ⁻, ̄ϕ], [ϕ⁻, ̄ϕ]]"
      ]
     },
     "execution_count": 9,
     "metadata": {},
     "output_type": "execute_result"
    }
   ],
   "source": [
    "regularise(wick_contractions)"
   ]
  }
 ],
 "metadata": {
  "kernelspec": {
   "display_name": "10 threads 1.11.4",
   "language": "julia",
   "name": "10-threads-1.11"
  },
  "language_info": {
   "file_extension": ".jl",
   "mimetype": "application/julia",
   "name": "julia",
   "version": "1.11.4"
  }
 },
 "nbformat": 4,
 "nbformat_minor": 5
}
