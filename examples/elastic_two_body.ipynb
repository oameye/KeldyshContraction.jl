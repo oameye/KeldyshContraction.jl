{
 "cells": [
  {
   "cell_type": "code",
   "execution_count": 1,
   "id": "56901c4a",
   "metadata": {},
   "outputs": [
    {
     "name": "stderr",
     "output_type": "stream",
     "text": [
      "\u001b[32m\u001b[1m  Activating\u001b[22m\u001b[39m project at `~/Documents/KeldyshContraction.jl/examples`\n"
     ]
    }
   ],
   "source": [
    "using DrWatson\n",
    "@quickactivate \"LossyTransport\""
   ]
  },
  {
   "cell_type": "code",
   "execution_count": 2,
   "id": "34ad9914",
   "metadata": {},
   "outputs": [],
   "source": [
    "using KeldyshContraction\n",
    "using KeldyshContraction: Classical, Quantum, Plus, Minus"
   ]
  },
  {
   "cell_type": "markdown",
   "id": "cb8d75c3",
   "metadata": {},
   "source": [
    "## internal sector\n",
    "\n"
   ]
  },
  {
   "cell_type": "code",
   "execution_count": 16,
   "id": "23a5c356",
   "metadata": {},
   "outputs": [
    {
     "data": {
      "text/latex": [
       "$c c \\bar{c} \\bar{q} + q q \\bar{c} \\bar{q} + c q \\bar{c} \\bar{c} + c q \\bar{q} \\bar{q}$"
      ],
      "text/plain": [
       "((c*c*̄c*̄q)+(q*q*̄c*̄q)+(c*q*̄c*̄c)+(c*q*̄q*̄q))"
      ]
     },
     "execution_count": 16,
     "metadata": {},
     "output_type": "execute_result"
    }
   ],
   "source": [
    "@qfields c::Destroy(Classical) q::Destroy(Quantum)\n",
    "\n",
    "eleactic2boson =  (c^2 + q^2) * c' * q' + c * q * ((c')^2  +  (q')^2) "
   ]
  },
  {
   "cell_type": "code",
   "execution_count": 15,
   "id": "2787b7e5",
   "metadata": {},
   "outputs": [
    {
     "data": {
      "text/plain": [
       "-2Gᴿ(y₁,y₁)*Gᴷ(y₁,y₁) + 2Gᴬ(y₁,y₁)*Gᴷ(y₁,y₁)"
      ]
     },
     "execution_count": 15,
     "metadata": {},
     "output_type": "execute_result"
    }
   ],
   "source": [
    "wick_contraction(eleactic2boson)"
   ]
  },
  {
   "cell_type": "markdown",
   "id": "92014839",
   "metadata": {},
   "source": [
    "Note that we have $G^R(y, y) + G^A(y, y) =0$ such that above is zero. "
   ]
  },
  {
   "cell_type": "code",
   "execution_count": 13,
   "id": "fa1f21e3",
   "metadata": {},
   "outputs": [
    {
     "data": {
      "text/plain": [
       "0"
      ]
     },
     "execution_count": 13,
     "metadata": {},
     "output_type": "execute_result"
    }
   ],
   "source": [
    "@qfields ϕ::Destroy(Classical) ψ::Destroy(Quantum)\n",
    "\n",
    "eleactic2boson =  (c(Minus)^2 + q(Minus)^2) * c' * q' +  c(Plus)  * q(Plus)  * ((c')^2  +  (q')^2) \n",
    "wick_contraction(eleactic2boson)"
   ]
  },
  {
   "cell_type": "markdown",
   "id": "2c5f9e09",
   "metadata": {},
   "source": [
    "## Full"
   ]
  },
  {
   "cell_type": "code",
   "execution_count": 30,
   "id": "43c1586c",
   "metadata": {},
   "outputs": [
    {
     "data": {
      "text/latex": [
       "$c c \\bar{c} \\bar{q} + q q \\bar{c} \\bar{q} + c q \\bar{c} \\bar{c} + c q \\bar{q} \\bar{q}$"
      ],
      "text/plain": [
       "((c*c*̄c*̄q)+(q*q*̄c*̄q)+(c*q*̄c*̄c)+(c*q*̄q*̄q))"
      ]
     },
     "execution_count": 30,
     "metadata": {},
     "output_type": "execute_result"
    }
   ],
   "source": [
    "@qfields c::Destroy(Classical) q::Destroy(Quantum)\n",
    "\n",
    "eleactic2boson =  (c^2 + q^2) * c' * q' + c * q * ((c')^2  +  (q')^2) "
   ]
  },
  {
   "cell_type": "code",
   "execution_count": 31,
   "id": "7febffe7",
   "metadata": {},
   "outputs": [
    {
     "data": {
      "text/latex": [
       "$c c \\bar{c} \\bar{q} + q q \\bar{c} \\bar{q} + c q \\bar{c} \\bar{c} + c q \\bar{q} \\bar{q}$"
      ],
      "text/plain": [
       "Interaction Lagrangian with fields c and q:\n",
       "((c*c*̄c*̄q)+(q*q*̄c*̄q)+(c*q*̄c*̄c)+(c*q*̄q*̄q))"
      ]
     },
     "execution_count": 31,
     "metadata": {},
     "output_type": "execute_result"
    }
   ],
   "source": [
    "L_int = InteractionLagrangian(eleactic2boson)"
   ]
  },
  {
   "cell_type": "code",
   "execution_count": 32,
   "id": "91fbd633",
   "metadata": {},
   "outputs": [
    {
     "data": {
      "text/plain": [
       "Dressed Propagator:\n",
       "keldysh:  (0 - 2im)*Gᴿ(x₁,y₁)*Gᴿ(y₁,y₁)*Gᴬ(y₁,x₂) + (0 - 2im)*Gᴿ(x₁,y₁)*Gᴬ(y₁,y₁)*Gᴬ(y₁,x₂) + (0 - 2im)*Gᴿ(x₁,y₁)*Gᴷ(y₁,y₁)*Gᴷ(y₁,x₂) + (0 - 2im)*Gᴿ(y₁,y₁)*Gᴷ(y₁,x₂)*Gᴷ(x₁,y₁) + (0 - 2im)*Gᴬ(y₁,y₁)*Gᴷ(y₁,x₂)*Gᴷ(x₁,y₁) + (0 - 2im)*Gᴷ(y₁,y₁)*Gᴷ(x₁,y₁)*Gᴬ(y₁,x₂)\n",
       "retarded: (0 - 2im)*Gᴿ(x₁,y₁)*Gᴷ(y₁,y₁)*Gᴿ(y₁,x₂) + (0 - 2im)*Gᴿ(y₁,y₁)*Gᴷ(x₁,y₁)*Gᴿ(y₁,x₂) + (0 - 2im)*Gᴬ(y₁,y₁)*Gᴷ(x₁,y₁)*Gᴿ(y₁,x₂)\n",
       "advanced: (0 - 2im)*Gᴿ(y₁,y₁)*Gᴬ(x₁,y₁)*Gᴷ(y₁,x₂) + (0 - 2im)*Gᴬ(y₁,y₁)*Gᴬ(x₁,y₁)*Gᴷ(y₁,x₂) + (0 - 2im)*Gᴷ(y₁,y₁)*Gᴬ(x₁,y₁)*Gᴬ(y₁,x₂)"
      ]
     },
     "execution_count": 32,
     "metadata": {},
     "output_type": "execute_result"
    }
   ],
   "source": [
    "GF = wick_contraction(L_int)"
   ]
  },
  {
   "cell_type": "code",
   "execution_count": 34,
   "id": "e50d86fe",
   "metadata": {},
   "outputs": [
    {
     "data": {
      "text/plain": [
       "6-element SymbolicUtils.SmallVec{Any, Vector{Any}}:\n",
       " (0 - 2im)*Gᴿ(x₁,y₁)*Gᴷ(y₁,y₁)*Gᴷ(y₁,x₂)\n",
       " (0 - 2im)*Gᴿ(x₁,y₁)*Gᴬ(y₁,y₁)*Gᴬ(y₁,x₂)\n",
       " (0 - 2im)*Gᴿ(y₁,y₁)*Gᴷ(y₁,x₂)*Gᴷ(x₁,y₁)\n",
       " (0 - 2im)*Gᴬ(y₁,y₁)*Gᴷ(y₁,x₂)*Gᴷ(x₁,y₁)\n",
       " (0 - 2im)*Gᴿ(x₁,y₁)*Gᴿ(y₁,y₁)*Gᴬ(y₁,x₂)\n",
       " (0 - 2im)*Gᴷ(y₁,y₁)*Gᴷ(x₁,y₁)*Gᴬ(y₁,x₂)"
      ]
     },
     "execution_count": 34,
     "metadata": {},
     "output_type": "execute_result"
    }
   ],
   "source": [
    "GF.keldysh |> arguments"
   ]
  },
  {
   "cell_type": "markdown",
   "id": "6af3ed85",
   "metadata": {},
   "source": [
    "G1K =  GA[y1,x2] GK[x1,y1] ΣA[y1,y1]+GA[y1,x2] GR[x1,y1] Σ+GK[y1,x2] GR[x1,y1]ΣR[y1,y1]"
   ]
  },
  {
   "cell_type": "code",
   "execution_count": 29,
   "id": "4242b387",
   "metadata": {},
   "outputs": [
    {
     "name": "stdout",
     "output_type": "stream",
     "text": [
      "dict = OrderedCollections.LittleDict{KeldyshContraction.AbstractPosition, KeldyshContraction.PropagatorType, Tuple{KeldyshContraction.Out, KeldyshContraction.In, KeldyshContraction.Bulk}, Tuple{KeldyshContraction.PropagatorType, KeldyshContraction.PropagatorType, KeldyshContraction.PropagatorType}}(KeldyshContraction.Out() => KeldyshContraction.Keldysh, KeldyshContraction.In() => KeldyshContraction.Keldysh, KeldyshContraction.Bulk(1) => KeldyshContraction.Retarded)\n"
     ]
    },
    {
     "ename": "LoadError",
     "evalue": "Classical-Classical for self-energy should be zero.",
     "output_type": "error",
     "traceback": [
      "Classical-Classical for self-energy should be zero.",
      "",
      "Stacktrace:",
      " [1] error(s::String)",
      "   @ Base ./error.jl:35",
      " [2] self_energy_type(dict::OrderedCollections.LittleDict{KeldyshContraction.AbstractPosition, KeldyshContraction.PropagatorType, Tuple{KeldyshContraction.Out, KeldyshContraction.In, KeldyshContraction.Bulk}, Tuple{KeldyshContraction.PropagatorType, KeldyshContraction.PropagatorType, KeldyshContraction.PropagatorType}})",
      "   @ KeldyshContraction ~/Documents/KeldyshContraction.jl/src/self_energy.jl:20",
      " [3] construct_self_energy!(self_energy::OrderedCollections.LittleDict{KeldyshContraction.PropagatorType, Union{Number, SymbolicUtils.Symbolic{<:Number}}, Vector{KeldyshContraction.PropagatorType}, Vector{Union{Number, SymbolicUtils.Symbolic{<:Number}}}}, expr::SymbolicUtils.BasicSymbolic{Number})",
      "   @ KeldyshContraction ~/Documents/KeldyshContraction.jl/src/self_energy.jl:51",
      " [4] SelfEnergy(G::DressedPropagator{SymbolicUtils.BasicSymbolic{Number}, SymbolicUtils.BasicSymbolic{Number}, SymbolicUtils.BasicSymbolic{Number}})",
      "   @ KeldyshContraction ~/Documents/KeldyshContraction.jl/src/self_energy.jl:85",
      " [5] top-level scope",
      "   @ In[29]:1"
     ]
    }
   ],
   "source": [
    "Σ = SelfEnergy(GF)"
   ]
  },
  {
   "cell_type": "code",
   "execution_count": null,
   "id": "81efa9df",
   "metadata": {},
   "outputs": [],
   "source": []
  }
 ],
 "metadata": {
  "kernelspec": {
   "display_name": "10 threads 1.10.9",
   "language": "julia",
   "name": "10-threads-1.10"
  },
  "language_info": {
   "file_extension": ".jl",
   "mimetype": "application/julia",
   "name": "julia",
   "version": "1.10.9"
  }
 },
 "nbformat": 4,
 "nbformat_minor": 5
}
