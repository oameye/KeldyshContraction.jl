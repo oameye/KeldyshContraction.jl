{
 "cells": [
  {
   "cell_type": "markdown",
   "metadata": {},
   "source": [
    "## Elastic Two Body Scattering"
   ]
  },
  {
   "cell_type": "code",
   "execution_count": 1,
   "metadata": {},
   "outputs": [],
   "source": [
    "using KeldyshContraction"
   ]
  },
  {
   "cell_type": "markdown",
   "metadata": {},
   "source": [
    "## System"
   ]
  },
  {
   "cell_type": "markdown",
   "metadata": {},
   "source": [
    "The interaction action of elastic two body scattering, is defined as\n",
    "$$\n",
    "S_\\mathrm{int} = -\\frac{g}{2} \\int d^d x \\, [(\\bar{\\phi}^+\\phi^+)^2 - (\\bar{\\phi}^-\\phi^-)^2 ]\n",
    "$$\n",
    "Above interaction can typically represent s-wave scattering of bosons."
   ]
  },
  {
   "cell_type": "markdown",
   "metadata": {},
   "source": [
    "In the RAK basis, this gives\n",
    "$$\n",
    "S_\\mathrm{int} = -\\frac{g}{2} \\int d^d x \\, [(\\bar{\\phi}^c\\bar{\\phi}^q\\phi^c\\phi^c)\n",
    "+(\\bar{\\phi}^c\\bar{\\phi}^q\\phi^q\\phi^q) + c.c.]\n",
    "$$"
   ]
  },
  {
   "cell_type": "markdown",
   "metadata": {},
   "source": [
    "Let us represent this quantum and classical field inside the `KeldyshContraction` package\n",
    "and define the interaction Lagrangian:"
   ]
  },
  {
   "cell_type": "code",
   "execution_count": 2,
   "metadata": {},
   "outputs": [
    {
     "data": {
      "text/latex": [
       "$0.5 c c \\bar{c} \\bar{q} + 0.5 q q \\bar{c} \\bar{q} + 0.5 c q \\bar{c} \\bar{c} + 0.5 c q \\bar{q} \\bar{q}$"
      ],
      "text/plain": [
       "Interaction Lagrangian with fields c and q:\n",
       "(0.5*(c*c*̄c*̄q)+0.5*(q*q*̄c*̄q)+0.5*(c*q*̄c*̄c)+0.5*(c*q*̄q*̄q))"
      ]
     },
     "execution_count": 2,
     "metadata": {},
     "output_type": "execute_result"
    }
   ],
   "source": [
    "@qfields c::Destroy(Classical) q::Destroy(Quantum)\n",
    "elasctic2boson = 0.5 * (c^2 + q^2) * c' * q' + 0.5 * c * q * ((c')^2 + (q')^2)\n",
    "L_int = InteractionLagrangian(elasctic2boson)"
   ]
  },
  {
   "cell_type": "markdown",
   "metadata": {},
   "source": [
    "A good check if the interaction Lagrangian is a valid physical process, is to check if the\n",
    "normalization identity $Z=1$ holds. We can do this perturbatively in $g$ by expanding\n",
    "$exp(i S_\\mathrm{int})$  and showing the average of the linear part of the system is zero\n",
    "$$\n",
    "\\langle S_\\mathrm{int}\\rangle =  \\langle S_\\mathrm{int}^2\\rangle  =\\ldots = 0\n",
    "$$\n",
    "In computing the average, one performs Wick contractions to describe the average in terms\n",
    "of the two-point correlators of the linear part of the system."
   ]
  },
  {
   "cell_type": "markdown",
   "metadata": {},
   "source": [
    "In the package we can do this as follows:"
   ]
  },
  {
   "cell_type": "code",
   "execution_count": 3,
   "metadata": {},
   "outputs": [
    {
     "data": {
      "text/plain": [
       "-Gᴬ(y₁,y₁)*Gᴷ(y₁,y₁) - Gᴿ(y₁,y₁)*Gᴷ(y₁,y₁)"
      ]
     },
     "execution_count": 3,
     "metadata": {},
     "output_type": "execute_result"
    }
   ],
   "source": [
    "wick_contraction(elasctic2boson)"
   ]
  },
  {
   "cell_type": "markdown",
   "metadata": {},
   "source": [
    "However, to show that these diagrams cancel out, we need to apply to condition $G^R = - G^A$.\n",
    "Inside the package we do this by"
   ]
  },
  {
   "cell_type": "code",
   "execution_count": 4,
   "metadata": {},
   "outputs": [
    {
     "data": {
      "text/plain": [
       "0"
      ]
     },
     "execution_count": 4,
     "metadata": {},
     "output_type": "execute_result"
    }
   ],
   "source": [
    "KeldyshContraction.advanced_to_retarded(wick_contraction(elasctic2boson))"
   ]
  },
  {
   "cell_type": "markdown",
   "metadata": {},
   "source": [
    "Similarly, we can compute the next orders."
   ]
  },
  {
   "cell_type": "markdown",
   "metadata": {},
   "source": [
    "## First order Green's function"
   ]
  },
  {
   "cell_type": "markdown",
   "metadata": {},
   "source": [
    "To compute the two point Green's functions of the interacting system, we can apply\n",
    " self-consistent perturbation theory. By again expanding in $g$ we can write\n",
    "$$\n",
    "\\begin{aligned}\n",
    "& i G^{\\mu \\nu}\\left(x_1, x_2\\right)=\\int \\mathcal{D}\\left[\\phi_c, \\bar{\\phi}_c, \\phi_q, \\bar{\\phi}_q\\right] \\phi_\\mu\\left(x_1\\right) \\bar{\\phi}_\\nu\\left(x_2\\right) \\sum_{k=0}^{\\infty} \\frac{i^k S_{\\mathrm{int}}^k}{k!} e^{i S_0}= \\\\\n",
    "& \\quad=i G_0^{\\mu \\nu}\\left(x_1, x_2\\right)+i \\int d^d y d t_y\\left\\langle\\phi_\\mu\\left(x_1\\right) \\bar{\\phi}_\\nu\\left(x_2\\right) \\mathcal{L}_{\\mathrm{int}}(y)\\right\\rangle_0+\\sum_{k=2}^{\\infty}\\left\\langle\\phi_\\mu\\left(x_1\\right) \\bar{\\phi}_\\nu\\left(x_2\\right) \\frac{i^k S_{\\mathrm{int}}^k}{k!}\\right\\rangle_0 .\n",
    "\\end{aligned}\n",
    "$$"
   ]
  },
  {
   "cell_type": "markdown",
   "metadata": {},
   "source": [
    "So we can compute the first order Green's function correction G_{(1)} by computing\n",
    "the Wick contraction of the interaction Lagrangian"
   ]
  },
  {
   "cell_type": "code",
   "execution_count": 5,
   "metadata": {},
   "outputs": [
    {
     "data": {
      "text/plain": [
       "Dressed Propagator:\n",
       "keldysh:  (0.0 - 1.0im)*Gᴬ(y₁,x₂)*Gᴷ(y₁,y₁)*Gᴷ(x₁,y₁) + (0.0 - 1.0im)*Gᴷ(y₁,x₂)*Gᴿ(x₁,y₁)*Gᴷ(y₁,y₁)\n",
       "retarded: (0.0 - 1.0im)*Gᴿ(y₁,x₂)*Gᴿ(x₁,y₁)*Gᴷ(y₁,y₁)\n",
       "advanced: (0.0 - 1.0im)*Gᴬ(y₁,x₂)*Gᴷ(y₁,y₁)*Gᴬ(x₁,y₁)"
      ]
     },
     "execution_count": 5,
     "metadata": {},
     "output_type": "execute_result"
    }
   ],
   "source": [
    "GF = wick_contraction(L_int)"
   ]
  },
  {
   "cell_type": "markdown",
   "metadata": {},
   "source": [
    "Here, the simplification of the advanced to retarded propagator is done internally."
   ]
  },
  {
   "cell_type": "markdown",
   "metadata": {},
   "source": [
    "## Self-Energy"
   ]
  },
  {
   "cell_type": "markdown",
   "metadata": {},
   "source": [
    "Often we are interested in the self-energy of the system, which is defined as\n",
    "the set of irreduciable diagrams. Inside the package we can compute these to an order $g$ by"
   ]
  },
  {
   "cell_type": "code",
   "execution_count": 6,
   "metadata": {},
   "outputs": [
    {
     "data": {
      "text/plain": [
       "Self Energy:\n",
       "keldysh:  0\n",
       "retarded: (0.0 - 1.0im)*Gᴷ(y₁,y₁)\n",
       "advanced: (0.0 - 1.0im)*Gᴷ(y₁,y₁)"
      ]
     },
     "execution_count": 6,
     "metadata": {},
     "output_type": "execute_result"
    }
   ],
   "source": [
    "Σ = SelfEnergy(GF)"
   ]
  },
  {
   "cell_type": "markdown",
   "metadata": {},
   "source": [
    "## Transport"
   ]
  },
  {
   "cell_type": "markdown",
   "metadata": {},
   "source": [
    "The self-energy can be used to compute derive a kinetic equation for the system.\n",
    "In doing this one compute the so-called collision integral, which is given by\n",
    "$$\n",
    "I _\\mathrm{coll}= i Σ^K(x, p) + 2 F (x, p) \\mathrm{Im}[Σ^R(x, p)].\n",
    "$$\n",
    "Here, $F$ is the bosonic distribution function of the system.\n",
    "However, from above calculation we find that $i Σ^K(x, p) = 0$ and:\n",
    "$$\n",
    " \\mathrm{Im}[G^K(x, p)]= \\int \\frac{d^d q}{(2\\pi)^d} \\mathrm{Im}G^K = 0.\n",
    "$$\n",
    "where $q = (\\vec{q}, \\epsilon)$ with $\\epsilon$ the energy of the system.\n",
    "Hence, the first order correction in $g$ does not contribute to the collision integral."
   ]
  },
  {
   "cell_type": "markdown",
   "metadata": {},
   "source": [
    "---\n",
    "\n",
    "*This notebook was generated using [Literate.jl](https://github.com/fredrikekre/Literate.jl).*"
   ]
  }
 ],
 "metadata": {
  "kernelspec": {
   "display_name": "10 threads 1.10.9",
   "language": "julia",
   "name": "10-threads-1.10"
  },
  "language_info": {
   "file_extension": ".jl",
   "mimetype": "application/julia",
   "name": "julia",
   "version": "1.10.9"
  }
 },
 "nbformat": 4,
 "nbformat_minor": 3
}
